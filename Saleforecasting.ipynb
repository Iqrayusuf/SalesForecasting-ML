{
  "nbformat": 4,
  "nbformat_minor": 0,
  "metadata": {
    "colab": {
      "provenance": []
    },
    "kernelspec": {
      "name": "python3",
      "display_name": "Python 3"
    },
    "language_info": {
      "name": "python"
    }
  },
  "cells": [
    {
      "cell_type": "code",
      "execution_count": null,
      "metadata": {
        "colab": {
          "base_uri": "https://localhost:8080/"
        },
        "id": "D9j4tHQX79qr",
        "outputId": "c7bd3d65-884f-4120-a525-c2f2e945deae"
      },
      "outputs": [
        {
          "output_type": "stream",
          "name": "stdout",
          "text": [
            "\u001b[2K     \u001b[90m━━━━━━━━━━━━━━━━━━━━━━━━━━━━━━━━━━━━━━━\u001b[0m \u001b[32m49.5/49.5 kB\u001b[0m \u001b[31m450.2 kB/s\u001b[0m eta \u001b[36m0:00:00\u001b[0m\n",
            "\u001b[2K     \u001b[90m━━━━━━━━━━━━━━━━━━━━━━━━━━━━━━━━━━━━━━\u001b[0m \u001b[32m913.9/913.9 kB\u001b[0m \u001b[31m14.7 MB/s\u001b[0m eta \u001b[36m0:00:00\u001b[0m\n",
            "\u001b[?25h  Preparing metadata (setup.py) ... \u001b[?25l\u001b[?25hdone\n",
            "\u001b[2K   \u001b[90m━━━━━━━━━━━━━━━━━━━━━━━━━━━━━━━━━━━━━━━━\u001b[0m \u001b[32m290.7/290.7 kB\u001b[0m \u001b[31m12.9 MB/s\u001b[0m eta \u001b[36m0:00:00\u001b[0m\n",
            "\u001b[2K   \u001b[90m━━━━━━━━━━━━━━━━━━━━━━━━━━━━━━━━━━━━━━━━\u001b[0m \u001b[32m99.2/99.2 MB\u001b[0m \u001b[31m10.2 MB/s\u001b[0m eta \u001b[36m0:00:00\u001b[0m\n",
            "\u001b[2K   \u001b[90m━━━━━━━━━━━━━━━━━━━━━━━━━━━━━━━━━━━━━━━━\u001b[0m \u001b[32m85.7/85.7 kB\u001b[0m \u001b[31m2.9 MB/s\u001b[0m eta \u001b[36m0:00:00\u001b[0m\n",
            "\u001b[2K   \u001b[90m━━━━━━━━━━━━━━━━━━━━━━━━━━━━━━━━━━━━━━━━\u001b[0m \u001b[32m1.8/1.8 MB\u001b[0m \u001b[31m46.4 MB/s\u001b[0m eta \u001b[36m0:00:00\u001b[0m\n",
            "\u001b[2K   \u001b[90m━━━━━━━━━━━━━━━━━━━━━━━━━━━━━━━━━━━━━━━━\u001b[0m \u001b[32m139.8/139.8 kB\u001b[0m \u001b[31m8.2 MB/s\u001b[0m eta \u001b[36m0:00:00\u001b[0m\n",
            "\u001b[2K   \u001b[90m━━━━━━━━━━━━━━━━━━━━━━━━━━━━━━━━━━━━━━━━\u001b[0m \u001b[32m161.7/161.7 kB\u001b[0m \u001b[31m9.6 MB/s\u001b[0m eta \u001b[36m0:00:00\u001b[0m\n",
            "\u001b[2K   \u001b[90m━━━━━━━━━━━━━━━━━━━━━━━━━━━━━━━━━━━━━━━━\u001b[0m \u001b[32m3.6/3.6 MB\u001b[0m \u001b[31m58.4 MB/s\u001b[0m eta \u001b[36m0:00:00\u001b[0m\n",
            "\u001b[2K   \u001b[90m━━━━━━━━━━━━━━━━━━━━━━━━━━━━━━━━━━━━━━━━\u001b[0m \u001b[32m125.0/125.0 kB\u001b[0m \u001b[31m7.1 MB/s\u001b[0m eta \u001b[36m0:00:00\u001b[0m\n",
            "\u001b[2K   \u001b[90m━━━━━━━━━━━━━━━━━━━━━━━━━━━━━━━━━━━━━━━━\u001b[0m \u001b[32m420.2/420.2 kB\u001b[0m \u001b[31m19.7 MB/s\u001b[0m eta \u001b[36m0:00:00\u001b[0m\n",
            "\u001b[2K   \u001b[90m━━━━━━━━━━━━━━━━━━━━━━━━━━━━━━━━━━━━━━━━\u001b[0m \u001b[32m110.5/110.5 kB\u001b[0m \u001b[31m7.2 MB/s\u001b[0m eta \u001b[36m0:00:00\u001b[0m\n",
            "\u001b[2K   \u001b[90m━━━━━━━━━━━━━━━━━━━━━━━━━━━━━━━━━━━━━━━━\u001b[0m \u001b[32m304.2/304.2 kB\u001b[0m \u001b[31m12.5 MB/s\u001b[0m eta \u001b[36m0:00:00\u001b[0m\n",
            "\u001b[2K   \u001b[90m━━━━━━━━━━━━━━━━━━━━━━━━━━━━━━━━━━━━━━━━\u001b[0m \u001b[32m3.1/3.1 MB\u001b[0m \u001b[31m52.9 MB/s\u001b[0m eta \u001b[36m0:00:00\u001b[0m\n",
            "\u001b[2K   \u001b[90m━━━━━━━━━━━━━━━━━━━━━━━━━━━━━━━━━━━━━━━━\u001b[0m \u001b[32m2.0/2.0 MB\u001b[0m \u001b[31m40.4 MB/s\u001b[0m eta \u001b[36m0:00:00\u001b[0m\n",
            "\u001b[2K   \u001b[90m━━━━━━━━━━━━━━━━━━━━━━━━━━━━━━━━━━━━━━━━\u001b[0m \u001b[32m2.2/2.2 MB\u001b[0m \u001b[31m41.2 MB/s\u001b[0m eta \u001b[36m0:00:00\u001b[0m\n",
            "\u001b[2K   \u001b[90m━━━━━━━━━━━━━━━━━━━━━━━━━━━━━━━━━━━━━━━━\u001b[0m \u001b[32m105.0/105.0 kB\u001b[0m \u001b[31m5.7 MB/s\u001b[0m eta \u001b[36m0:00:00\u001b[0m\n",
            "\u001b[2K   \u001b[90m━━━━━━━━━━━━━━━━━━━━━━━━━━━━━━━━━━━━━━━━\u001b[0m \u001b[32m1.6/1.6 MB\u001b[0m \u001b[31m27.4 MB/s\u001b[0m eta \u001b[36m0:00:00\u001b[0m\n",
            "\u001b[2K   \u001b[90m━━━━━━━━━━━━━━━━━━━━━━━━━━━━━━━━━━━━━━━━\u001b[0m \u001b[32m194.6/194.6 kB\u001b[0m \u001b[31m11.4 MB/s\u001b[0m eta \u001b[36m0:00:00\u001b[0m\n",
            "\u001b[?25h  Building wheel for svglib (setup.py) ... \u001b[?25l\u001b[?25hdone\n"
          ]
        }
      ],
      "source": [
        "%pip install -Uq upgini catboost"
      ]
    },
    {
      "cell_type": "code",
      "source": [
        "from os.path import exists\n",
        "import pandas as pd\n",
        "df_path = \"train.csv.zip\" if exists(\"train.csv.zip\")else \"https://github.com/upgini/upgini/raw/main/notebooks/train.csv.zip\"\n",
        "df = pd.read_csv(df_path)\n",
        "df = df.sample(n=19_000,random_state=0)\n",
        "df[\"store\"] = df[\"store\"].astype(str)\n",
        "df[\"item\"] = df[\"item\"].astype(str)\n",
        "\n",
        "df[\"date\"] = pd.to_datetime(df[\"date\"])\n",
        "\n",
        "df.sort_values(\"date\",inplace=True)\n",
        "df.reset_index(inplace=True,drop=True)\n",
        "df.head()"
      ],
      "metadata": {
        "colab": {
          "base_uri": "https://localhost:8080/",
          "height": 206
        },
        "id": "lXQ0rDyR93Bu",
        "outputId": "53cac0a8-a732-431e-e105-9a2607bc0ec9"
      },
      "execution_count": null,
      "outputs": [
        {
          "output_type": "execute_result",
          "data": {
            "text/plain": [
              "        date store item  sales\n",
              "0 2013-01-01     7    5      5\n",
              "1 2013-01-01     4    9     19\n",
              "2 2013-01-01     1   33     37\n",
              "3 2013-01-01     3   41     14\n",
              "4 2013-01-01     5   24     26"
            ],
            "text/html": [
              "\n",
              "  <div id=\"df-6c8d6bac-c5bc-4d95-bb22-96a03b571413\" class=\"colab-df-container\">\n",
              "    <div>\n",
              "<style scoped>\n",
              "    .dataframe tbody tr th:only-of-type {\n",
              "        vertical-align: middle;\n",
              "    }\n",
              "\n",
              "    .dataframe tbody tr th {\n",
              "        vertical-align: top;\n",
              "    }\n",
              "\n",
              "    .dataframe thead th {\n",
              "        text-align: right;\n",
              "    }\n",
              "</style>\n",
              "<table border=\"1\" class=\"dataframe\">\n",
              "  <thead>\n",
              "    <tr style=\"text-align: right;\">\n",
              "      <th></th>\n",
              "      <th>date</th>\n",
              "      <th>store</th>\n",
              "      <th>item</th>\n",
              "      <th>sales</th>\n",
              "    </tr>\n",
              "  </thead>\n",
              "  <tbody>\n",
              "    <tr>\n",
              "      <th>0</th>\n",
              "      <td>2013-01-01</td>\n",
              "      <td>7</td>\n",
              "      <td>5</td>\n",
              "      <td>5</td>\n",
              "    </tr>\n",
              "    <tr>\n",
              "      <th>1</th>\n",
              "      <td>2013-01-01</td>\n",
              "      <td>4</td>\n",
              "      <td>9</td>\n",
              "      <td>19</td>\n",
              "    </tr>\n",
              "    <tr>\n",
              "      <th>2</th>\n",
              "      <td>2013-01-01</td>\n",
              "      <td>1</td>\n",
              "      <td>33</td>\n",
              "      <td>37</td>\n",
              "    </tr>\n",
              "    <tr>\n",
              "      <th>3</th>\n",
              "      <td>2013-01-01</td>\n",
              "      <td>3</td>\n",
              "      <td>41</td>\n",
              "      <td>14</td>\n",
              "    </tr>\n",
              "    <tr>\n",
              "      <th>4</th>\n",
              "      <td>2013-01-01</td>\n",
              "      <td>5</td>\n",
              "      <td>24</td>\n",
              "      <td>26</td>\n",
              "    </tr>\n",
              "  </tbody>\n",
              "</table>\n",
              "</div>\n",
              "    <div class=\"colab-df-buttons\">\n",
              "\n",
              "  <div class=\"colab-df-container\">\n",
              "    <button class=\"colab-df-convert\" onclick=\"convertToInteractive('df-6c8d6bac-c5bc-4d95-bb22-96a03b571413')\"\n",
              "            title=\"Convert this dataframe to an interactive table.\"\n",
              "            style=\"display:none;\">\n",
              "\n",
              "  <svg xmlns=\"http://www.w3.org/2000/svg\" height=\"24px\" viewBox=\"0 -960 960 960\">\n",
              "    <path d=\"M120-120v-720h720v720H120Zm60-500h600v-160H180v160Zm220 220h160v-160H400v160Zm0 220h160v-160H400v160ZM180-400h160v-160H180v160Zm440 0h160v-160H620v160ZM180-180h160v-160H180v160Zm440 0h160v-160H620v160Z\"/>\n",
              "  </svg>\n",
              "    </button>\n",
              "\n",
              "  <style>\n",
              "    .colab-df-container {\n",
              "      display:flex;\n",
              "      gap: 12px;\n",
              "    }\n",
              "\n",
              "    .colab-df-convert {\n",
              "      background-color: #E8F0FE;\n",
              "      border: none;\n",
              "      border-radius: 50%;\n",
              "      cursor: pointer;\n",
              "      display: none;\n",
              "      fill: #1967D2;\n",
              "      height: 32px;\n",
              "      padding: 0 0 0 0;\n",
              "      width: 32px;\n",
              "    }\n",
              "\n",
              "    .colab-df-convert:hover {\n",
              "      background-color: #E2EBFA;\n",
              "      box-shadow: 0px 1px 2px rgba(60, 64, 67, 0.3), 0px 1px 3px 1px rgba(60, 64, 67, 0.15);\n",
              "      fill: #174EA6;\n",
              "    }\n",
              "\n",
              "    .colab-df-buttons div {\n",
              "      margin-bottom: 4px;\n",
              "    }\n",
              "\n",
              "    [theme=dark] .colab-df-convert {\n",
              "      background-color: #3B4455;\n",
              "      fill: #D2E3FC;\n",
              "    }\n",
              "\n",
              "    [theme=dark] .colab-df-convert:hover {\n",
              "      background-color: #434B5C;\n",
              "      box-shadow: 0px 1px 3px 1px rgba(0, 0, 0, 0.15);\n",
              "      filter: drop-shadow(0px 1px 2px rgba(0, 0, 0, 0.3));\n",
              "      fill: #FFFFFF;\n",
              "    }\n",
              "  </style>\n",
              "\n",
              "    <script>\n",
              "      const buttonEl =\n",
              "        document.querySelector('#df-6c8d6bac-c5bc-4d95-bb22-96a03b571413 button.colab-df-convert');\n",
              "      buttonEl.style.display =\n",
              "        google.colab.kernel.accessAllowed ? 'block' : 'none';\n",
              "\n",
              "      async function convertToInteractive(key) {\n",
              "        const element = document.querySelector('#df-6c8d6bac-c5bc-4d95-bb22-96a03b571413');\n",
              "        const dataTable =\n",
              "          await google.colab.kernel.invokeFunction('convertToInteractive',\n",
              "                                                    [key], {});\n",
              "        if (!dataTable) return;\n",
              "\n",
              "        const docLinkHtml = 'Like what you see? Visit the ' +\n",
              "          '<a target=\"_blank\" href=https://colab.research.google.com/notebooks/data_table.ipynb>data table notebook</a>'\n",
              "          + ' to learn more about interactive tables.';\n",
              "        element.innerHTML = '';\n",
              "        dataTable['output_type'] = 'display_data';\n",
              "        await google.colab.output.renderOutput(dataTable, element);\n",
              "        const docLink = document.createElement('div');\n",
              "        docLink.innerHTML = docLinkHtml;\n",
              "        element.appendChild(docLink);\n",
              "      }\n",
              "    </script>\n",
              "  </div>\n",
              "\n",
              "\n",
              "    <div id=\"df-07fab3f5-aac8-4e76-bcbf-7cf1841548e4\">\n",
              "      <button class=\"colab-df-quickchart\" onclick=\"quickchart('df-07fab3f5-aac8-4e76-bcbf-7cf1841548e4')\"\n",
              "                title=\"Suggest charts\"\n",
              "                style=\"display:none;\">\n",
              "\n",
              "<svg xmlns=\"http://www.w3.org/2000/svg\" height=\"24px\"viewBox=\"0 0 24 24\"\n",
              "     width=\"24px\">\n",
              "    <g>\n",
              "        <path d=\"M19 3H5c-1.1 0-2 .9-2 2v14c0 1.1.9 2 2 2h14c1.1 0 2-.9 2-2V5c0-1.1-.9-2-2-2zM9 17H7v-7h2v7zm4 0h-2V7h2v10zm4 0h-2v-4h2v4z\"/>\n",
              "    </g>\n",
              "</svg>\n",
              "      </button>\n",
              "\n",
              "<style>\n",
              "  .colab-df-quickchart {\n",
              "      --bg-color: #E8F0FE;\n",
              "      --fill-color: #1967D2;\n",
              "      --hover-bg-color: #E2EBFA;\n",
              "      --hover-fill-color: #174EA6;\n",
              "      --disabled-fill-color: #AAA;\n",
              "      --disabled-bg-color: #DDD;\n",
              "  }\n",
              "\n",
              "  [theme=dark] .colab-df-quickchart {\n",
              "      --bg-color: #3B4455;\n",
              "      --fill-color: #D2E3FC;\n",
              "      --hover-bg-color: #434B5C;\n",
              "      --hover-fill-color: #FFFFFF;\n",
              "      --disabled-bg-color: #3B4455;\n",
              "      --disabled-fill-color: #666;\n",
              "  }\n",
              "\n",
              "  .colab-df-quickchart {\n",
              "    background-color: var(--bg-color);\n",
              "    border: none;\n",
              "    border-radius: 50%;\n",
              "    cursor: pointer;\n",
              "    display: none;\n",
              "    fill: var(--fill-color);\n",
              "    height: 32px;\n",
              "    padding: 0;\n",
              "    width: 32px;\n",
              "  }\n",
              "\n",
              "  .colab-df-quickchart:hover {\n",
              "    background-color: var(--hover-bg-color);\n",
              "    box-shadow: 0 1px 2px rgba(60, 64, 67, 0.3), 0 1px 3px 1px rgba(60, 64, 67, 0.15);\n",
              "    fill: var(--button-hover-fill-color);\n",
              "  }\n",
              "\n",
              "  .colab-df-quickchart-complete:disabled,\n",
              "  .colab-df-quickchart-complete:disabled:hover {\n",
              "    background-color: var(--disabled-bg-color);\n",
              "    fill: var(--disabled-fill-color);\n",
              "    box-shadow: none;\n",
              "  }\n",
              "\n",
              "  .colab-df-spinner {\n",
              "    border: 2px solid var(--fill-color);\n",
              "    border-color: transparent;\n",
              "    border-bottom-color: var(--fill-color);\n",
              "    animation:\n",
              "      spin 1s steps(1) infinite;\n",
              "  }\n",
              "\n",
              "  @keyframes spin {\n",
              "    0% {\n",
              "      border-color: transparent;\n",
              "      border-bottom-color: var(--fill-color);\n",
              "      border-left-color: var(--fill-color);\n",
              "    }\n",
              "    20% {\n",
              "      border-color: transparent;\n",
              "      border-left-color: var(--fill-color);\n",
              "      border-top-color: var(--fill-color);\n",
              "    }\n",
              "    30% {\n",
              "      border-color: transparent;\n",
              "      border-left-color: var(--fill-color);\n",
              "      border-top-color: var(--fill-color);\n",
              "      border-right-color: var(--fill-color);\n",
              "    }\n",
              "    40% {\n",
              "      border-color: transparent;\n",
              "      border-right-color: var(--fill-color);\n",
              "      border-top-color: var(--fill-color);\n",
              "    }\n",
              "    60% {\n",
              "      border-color: transparent;\n",
              "      border-right-color: var(--fill-color);\n",
              "    }\n",
              "    80% {\n",
              "      border-color: transparent;\n",
              "      border-right-color: var(--fill-color);\n",
              "      border-bottom-color: var(--fill-color);\n",
              "    }\n",
              "    90% {\n",
              "      border-color: transparent;\n",
              "      border-bottom-color: var(--fill-color);\n",
              "    }\n",
              "  }\n",
              "</style>\n",
              "\n",
              "      <script>\n",
              "        async function quickchart(key) {\n",
              "          const quickchartButtonEl =\n",
              "            document.querySelector('#' + key + ' button');\n",
              "          quickchartButtonEl.disabled = true;  // To prevent multiple clicks.\n",
              "          quickchartButtonEl.classList.add('colab-df-spinner');\n",
              "          try {\n",
              "            const charts = await google.colab.kernel.invokeFunction(\n",
              "                'suggestCharts', [key], {});\n",
              "          } catch (error) {\n",
              "            console.error('Error during call to suggestCharts:', error);\n",
              "          }\n",
              "          quickchartButtonEl.classList.remove('colab-df-spinner');\n",
              "          quickchartButtonEl.classList.add('colab-df-quickchart-complete');\n",
              "        }\n",
              "        (() => {\n",
              "          let quickchartButtonEl =\n",
              "            document.querySelector('#df-07fab3f5-aac8-4e76-bcbf-7cf1841548e4 button');\n",
              "          quickchartButtonEl.style.display =\n",
              "            google.colab.kernel.accessAllowed ? 'block' : 'none';\n",
              "        })();\n",
              "      </script>\n",
              "    </div>\n",
              "\n",
              "    </div>\n",
              "  </div>\n"
            ],
            "application/vnd.google.colaboratory.intrinsic+json": {
              "type": "dataframe",
              "variable_name": "df",
              "summary": "{\n  \"name\": \"df\",\n  \"rows\": 19000,\n  \"fields\": [\n    {\n      \"column\": \"date\",\n      \"properties\": {\n        \"dtype\": \"date\",\n        \"min\": \"2013-01-01 00:00:00\",\n        \"max\": \"2017-12-31 00:00:00\",\n        \"num_unique_values\": 1826,\n        \"samples\": [\n          \"2015-09-26 00:00:00\",\n          \"2017-02-27 00:00:00\",\n          \"2013-10-26 00:00:00\"\n        ],\n        \"semantic_type\": \"\",\n        \"description\": \"\"\n      }\n    },\n    {\n      \"column\": \"store\",\n      \"properties\": {\n        \"dtype\": \"category\",\n        \"num_unique_values\": 10,\n        \"samples\": [\n          \"9\",\n          \"4\",\n          \"2\"\n        ],\n        \"semantic_type\": \"\",\n        \"description\": \"\"\n      }\n    },\n    {\n      \"column\": \"item\",\n      \"properties\": {\n        \"dtype\": \"category\",\n        \"num_unique_values\": 50,\n        \"samples\": [\n          \"40\",\n          \"43\",\n          \"20\"\n        ],\n        \"semantic_type\": \"\",\n        \"description\": \"\"\n      }\n    },\n    {\n      \"column\": \"sales\",\n      \"properties\": {\n        \"dtype\": \"number\",\n        \"std\": 28,\n        \"min\": 1,\n        \"max\": 205,\n        \"num_unique_values\": 173,\n        \"samples\": [\n          196,\n          63,\n          94\n        ],\n        \"semantic_type\": \"\",\n        \"description\": \"\"\n      }\n    }\n  ]\n}"
            }
          },
          "metadata": {},
          "execution_count": 2
        }
      ]
    },
    {
      "cell_type": "code",
      "source": [
        "train = df[df[\"date\"]<\"2017-01-01\"]\n",
        "test = df[df[\"date\"]>=\"2017-01-01\"]"
      ],
      "metadata": {
        "id": "3cdEqYfRBg6U"
      },
      "execution_count": null,
      "outputs": []
    },
    {
      "cell_type": "markdown",
      "source": [],
      "metadata": {
        "id": "gvFQkf0f9dmr"
      }
    },
    {
      "cell_type": "code",
      "source": [
        "train_features = train.drop(columns=[\"sales\"])\n",
        "train_target = train[\"sales\"]\n",
        "\n",
        "test_features = test.drop(columns=[\"sales\"])\n",
        "test_target = test[\"sales\"]"
      ],
      "metadata": {
        "id": "rQmjBvtICJ7K"
      },
      "execution_count": null,
      "outputs": []
    },
    {
      "cell_type": "code",
      "source": [
        "from upgini import FeaturesEnricher , SearchKey\n",
        "from upgini.metadata import CVType\n",
        "\n",
        "enricher = FeaturesEnricher(\n",
        "    search_keys = {\n",
        "        \"date\":SearchKey.DATE,\n",
        "    },\n",
        "    cv=CVType.time_series\n",
        ")\n",
        "enricher.fit(train_features,\n",
        "             train_target,\n",
        "             eval_set = [(test_features,test_target)])\n"
      ],
      "metadata": {
        "colab": {
          "base_uri": "https://localhost:8080/",
          "height": 1000
        },
        "id": "3XuQ_CDkCAm_",
        "outputId": "a07f5ec7-0041-4843-ae4a-c33b917d7f2a"
      },
      "execution_count": null,
      "outputs": [
        {
          "output_type": "display_data",
          "data": {
            "text/plain": [
              "[============================================================] 100% Finished"
            ],
            "text/html": [
              "<progress style='width:60ex' max='100' value='100'></progress>  100% Finished</br>"
            ]
          },
          "metadata": {}
        },
        {
          "output_type": "display_data",
          "data": {
            "text/plain": [
              "<IPython.core.display.Javascript object>"
            ],
            "application/javascript": [
              "\n",
              "                    async function getVisitorId() {\n",
              "                        return import('https://upgini.github.io/upgini/js/a.js')\n",
              "                            .then(FingerprintJS => FingerprintJS.load())\n",
              "                            .then(fp => fp.get())\n",
              "                            .then(result => result.visitorId);\n",
              "                    }\n",
              "                    "
            ]
          },
          "metadata": {}
        },
        {
          "output_type": "display_data",
          "data": {
            "text/plain": [
              "<IPython.core.display.Javascript object>"
            ],
            "application/javascript": [
              "\n",
              "                    async function getVisitorId() {\n",
              "                        return import('https://upgini.github.io/upgini/js/a.js')\n",
              "                            .then(FingerprintJS => FingerprintJS.load())\n",
              "                            .then(fp => fp.get())\n",
              "                            .then(result => result.visitorId);\n",
              "                    }\n",
              "                    "
            ]
          },
          "metadata": {}
        },
        {
          "output_type": "display_data",
          "data": {
            "text/plain": [
              "<IPython.core.display.Javascript object>"
            ],
            "application/javascript": [
              "\n",
              "                    async function getVisitorId() {\n",
              "                        return import('https://upgini.github.io/upgini/js/a.js')\n",
              "                            .then(FingerprintJS => FingerprintJS.load())\n",
              "                            .then(fp => fp.get())\n",
              "                            .then(result => result.visitorId);\n",
              "                    }\n",
              "                    "
            ]
          },
          "metadata": {}
        },
        {
          "output_type": "display_data",
          "data": {
            "text/plain": [
              "<IPython.core.display.Javascript object>"
            ],
            "application/javascript": [
              "\n",
              "                    async function getVisitorId() {\n",
              "                        return import('https://upgini.github.io/upgini/js/a.js')\n",
              "                            .then(FingerprintJS => FingerprintJS.load())\n",
              "                            .then(fp => fp.get())\n",
              "                            .then(result => result.visitorId);\n",
              "                    }\n",
              "                    "
            ]
          },
          "metadata": {}
        },
        {
          "output_type": "display_data",
          "data": {
            "text/plain": [
              "<IPython.core.display.Javascript object>"
            ],
            "application/javascript": [
              "\n",
              "                    async function getVisitorId() {\n",
              "                        return import('https://upgini.github.io/upgini/js/a.js')\n",
              "                            .then(FingerprintJS => FingerprintJS.load())\n",
              "                            .then(fp => fp.get())\n",
              "                            .then(result => result.visitorId);\n",
              "                    }\n",
              "                    "
            ]
          },
          "metadata": {}
        },
        {
          "output_type": "display_data",
          "data": {
            "text/plain": [
              "<IPython.core.display.Javascript object>"
            ],
            "application/javascript": [
              "\n",
              "                    async function getVisitorId() {\n",
              "                        return import('https://upgini.github.io/upgini/js/a.js')\n",
              "                            .then(FingerprintJS => FingerprintJS.load())\n",
              "                            .then(fp => fp.get())\n",
              "                            .then(result => result.visitorId);\n",
              "                    }\n",
              "                    "
            ]
          },
          "metadata": {}
        },
        {
          "output_type": "display_data",
          "data": {
            "text/plain": [
              "<IPython.core.display.Javascript object>"
            ],
            "application/javascript": [
              "\n",
              "                    async function getVisitorId() {\n",
              "                        return import('https://upgini.github.io/upgini/js/a.js')\n",
              "                            .then(FingerprintJS => FingerprintJS.load())\n",
              "                            .then(fp => fp.get())\n",
              "                            .then(result => result.visitorId);\n",
              "                    }\n",
              "                    "
            ]
          },
          "metadata": {}
        },
        {
          "output_type": "stream",
          "name": "stdout",
          "text": [
            "WARNING #1: Search started with DATE search key only\n",
            "Try to add other keys like the COUNTRY, POSTAL_CODE, PHONE NUMBER, EMAIL/HEM, IP to your training dataset\n",
            "for search through all the available data sources.\n",
            "See docs https://github.com/upgini/upgini#-total-239-countries-and-up-to-41-years-of-history\n",
            "\n",
            "\n",
            "Detected task type: ModelTaskType.REGRESSION. Reason: date search key is present, treating as regression\n",
            "You can set task type manually with argument `model_task_type` of FeaturesEnricher constructor if task type detected incorrectly\n",
            "\n"
          ]
        },
        {
          "output_type": "display_data",
          "data": {
            "text/plain": [
              "<IPython.core.display.Javascript object>"
            ],
            "application/javascript": [
              "\n",
              "                    async function getVisitorId() {\n",
              "                        return import('https://upgini.github.io/upgini/js/a.js')\n",
              "                            .then(FingerprintJS => FingerprintJS.load())\n",
              "                            .then(fp => fp.get())\n",
              "                            .then(result => result.visitorId);\n",
              "                    }\n",
              "                    "
            ]
          },
          "metadata": {}
        },
        {
          "output_type": "display_data",
          "data": {
            "text/plain": [
              "<IPython.core.display.Javascript object>"
            ],
            "application/javascript": [
              "\n",
              "                    async function getVisitorId() {\n",
              "                        return import('https://upgini.github.io/upgini/js/a.js')\n",
              "                            .then(FingerprintJS => FingerprintJS.load())\n",
              "                            .then(fp => fp.get())\n",
              "                            .then(result => result.visitorId);\n",
              "                    }\n",
              "                    "
            ]
          },
          "metadata": {}
        },
        {
          "output_type": "display_data",
          "data": {
            "text/plain": [
              "<IPython.core.display.Javascript object>"
            ],
            "application/javascript": [
              "\n",
              "                    async function getVisitorId() {\n",
              "                        return import('https://upgini.github.io/upgini/js/a.js')\n",
              "                            .then(FingerprintJS => FingerprintJS.load())\n",
              "                            .then(fp => fp.get())\n",
              "                            .then(result => result.visitorId);\n",
              "                    }\n",
              "                    "
            ]
          },
          "metadata": {}
        },
        {
          "output_type": "display_data",
          "data": {
            "text/plain": [
              "<IPython.core.display.Javascript object>"
            ],
            "application/javascript": [
              "\n",
              "                    async function getVisitorId() {\n",
              "                        return import('https://upgini.github.io/upgini/js/a.js')\n",
              "                            .then(FingerprintJS => FingerprintJS.load())\n",
              "                            .then(fp => fp.get())\n",
              "                            .then(result => result.visitorId);\n",
              "                    }\n",
              "                    "
            ]
          },
          "metadata": {}
        },
        {
          "output_type": "display_data",
          "data": {
            "text/plain": [
              "<IPython.core.display.Javascript object>"
            ],
            "application/javascript": [
              "\n",
              "                    async function getVisitorId() {\n",
              "                        return import('https://upgini.github.io/upgini/js/a.js')\n",
              "                            .then(FingerprintJS => FingerprintJS.load())\n",
              "                            .then(fp => fp.get())\n",
              "                            .then(result => result.visitorId);\n",
              "                    }\n",
              "                    "
            ]
          },
          "metadata": {}
        },
        {
          "output_type": "stream",
          "name": "stdout",
          "text": [
            "WARNING #2: Your training sample is unstable in number of rows per date. It is recommended to redesign the training sample\n",
            "\n"
          ]
        },
        {
          "output_type": "display_data",
          "data": {
            "text/plain": [
              "<IPython.core.display.Javascript object>"
            ],
            "application/javascript": [
              "\n",
              "                    async function getVisitorId() {\n",
              "                        return import('https://upgini.github.io/upgini/js/a.js')\n",
              "                            .then(FingerprintJS => FingerprintJS.load())\n",
              "                            .then(fp => fp.get())\n",
              "                            .then(result => result.visitorId);\n",
              "                    }\n",
              "                    "
            ]
          },
          "metadata": {}
        },
        {
          "output_type": "display_data",
          "data": {
            "text/plain": [
              "<IPython.core.display.Javascript object>"
            ],
            "application/javascript": [
              "\n",
              "                    async function getVisitorId() {\n",
              "                        return import('https://upgini.github.io/upgini/js/a.js')\n",
              "                            .then(FingerprintJS => FingerprintJS.load())\n",
              "                            .then(fp => fp.get())\n",
              "                            .then(result => result.visitorId);\n",
              "                    }\n",
              "                    "
            ]
          },
          "metadata": {}
        },
        {
          "output_type": "display_data",
          "data": {
            "text/plain": [
              "<IPython.core.display.Javascript object>"
            ],
            "application/javascript": [
              "\n",
              "                    async function getVisitorId() {\n",
              "                        return import('https://upgini.github.io/upgini/js/a.js')\n",
              "                            .then(FingerprintJS => FingerprintJS.load())\n",
              "                            .then(fp => fp.get())\n",
              "                            .then(result => result.visitorId);\n",
              "                    }\n",
              "                    "
            ]
          },
          "metadata": {}
        },
        {
          "output_type": "display_data",
          "data": {
            "text/plain": [
              "<IPython.core.display.HTML object>"
            ],
            "text/html": [
              "<table><tr><th style='font-weight:bold'>Column name</th><th style='font-weight:bold'>Status</th><th style='font-weight:bold'>Errors</th></tr><tr><td>date</td><td style='background-color:#DAF7A6;color:black'>All valid</td><td>-</td></tr><tr><td>target</td><td style='background-color:#DAF7A6;color:black'>All valid</td><td>-</td></tr></table>"
            ]
          },
          "metadata": {}
        },
        {
          "output_type": "stream",
          "name": "stdout",
          "text": [
            "\n"
          ]
        },
        {
          "output_type": "display_data",
          "data": {
            "text/plain": [
              "<IPython.core.display.Javascript object>"
            ],
            "application/javascript": [
              "\n",
              "                    async function getVisitorId() {\n",
              "                        return import('https://upgini.github.io/upgini/js/a.js')\n",
              "                            .then(FingerprintJS => FingerprintJS.load())\n",
              "                            .then(fp => fp.get())\n",
              "                            .then(result => result.visitorId);\n",
              "                    }\n",
              "                    "
            ]
          },
          "metadata": {}
        },
        {
          "output_type": "display_data",
          "data": {
            "text/plain": [
              "<IPython.core.display.Javascript object>"
            ],
            "application/javascript": [
              "\n",
              "                    async function getVisitorId() {\n",
              "                        return import('https://upgini.github.io/upgini/js/a.js')\n",
              "                            .then(FingerprintJS => FingerprintJS.load())\n",
              "                            .then(fp => fp.get())\n",
              "                            .then(result => result.visitorId);\n",
              "                    }\n",
              "                    "
            ]
          },
          "metadata": {}
        },
        {
          "output_type": "display_data",
          "data": {
            "text/plain": [
              "<IPython.core.display.Javascript object>"
            ],
            "application/javascript": [
              "\n",
              "                    async function getVisitorId() {\n",
              "                        return import('https://upgini.github.io/upgini/js/a.js')\n",
              "                            .then(FingerprintJS => FingerprintJS.load())\n",
              "                            .then(fp => fp.get())\n",
              "                            .then(result => result.visitorId);\n",
              "                    }\n",
              "                    "
            ]
          },
          "metadata": {}
        },
        {
          "output_type": "display_data",
          "data": {
            "text/plain": [
              "<IPython.core.display.Javascript object>"
            ],
            "application/javascript": [
              "\n",
              "                    async function getVisitorId() {\n",
              "                        return import('https://upgini.github.io/upgini/js/a.js')\n",
              "                            .then(FingerprintJS => FingerprintJS.load())\n",
              "                            .then(fp => fp.get())\n",
              "                            .then(result => result.visitorId);\n",
              "                    }\n",
              "                    "
            ]
          },
          "metadata": {}
        },
        {
          "output_type": "display_data",
          "data": {
            "text/plain": [
              "<IPython.core.display.Javascript object>"
            ],
            "application/javascript": [
              "\n",
              "                    async function getVisitorId() {\n",
              "                        return import('https://upgini.github.io/upgini/js/a.js')\n",
              "                            .then(FingerprintJS => FingerprintJS.load())\n",
              "                            .then(fp => fp.get())\n",
              "                            .then(result => result.visitorId);\n",
              "                    }\n",
              "                    "
            ]
          },
          "metadata": {}
        },
        {
          "output_type": "display_data",
          "data": {
            "text/plain": [
              "<IPython.core.display.Javascript object>"
            ],
            "application/javascript": [
              "\n",
              "                    async function getVisitorId() {\n",
              "                        return import('https://upgini.github.io/upgini/js/a.js')\n",
              "                            .then(FingerprintJS => FingerprintJS.load())\n",
              "                            .then(fp => fp.get())\n",
              "                            .then(result => result.visitorId);\n",
              "                    }\n",
              "                    "
            ]
          },
          "metadata": {}
        },
        {
          "output_type": "display_data",
          "data": {
            "text/plain": [
              "<IPython.core.display.Javascript object>"
            ],
            "application/javascript": [
              "\n",
              "                    async function getVisitorId() {\n",
              "                        return import('https://upgini.github.io/upgini/js/a.js')\n",
              "                            .then(FingerprintJS => FingerprintJS.load())\n",
              "                            .then(fp => fp.get())\n",
              "                            .then(result => result.visitorId);\n",
              "                    }\n",
              "                    "
            ]
          },
          "metadata": {}
        },
        {
          "output_type": "display_data",
          "data": {
            "text/plain": [
              "<IPython.core.display.Javascript object>"
            ],
            "application/javascript": [
              "\n",
              "                    async function getVisitorId() {\n",
              "                        return import('https://upgini.github.io/upgini/js/a.js')\n",
              "                            .then(FingerprintJS => FingerprintJS.load())\n",
              "                            .then(fp => fp.get())\n",
              "                            .then(result => result.visitorId);\n",
              "                    }\n",
              "                    "
            ]
          },
          "metadata": {}
        },
        {
          "output_type": "display_data",
          "data": {
            "text/plain": [
              "<IPython.core.display.Javascript object>"
            ],
            "application/javascript": [
              "\n",
              "                    async function getVisitorId() {\n",
              "                        return import('https://upgini.github.io/upgini/js/a.js')\n",
              "                            .then(FingerprintJS => FingerprintJS.load())\n",
              "                            .then(fp => fp.get())\n",
              "                            .then(result => result.visitorId);\n",
              "                    }\n",
              "                    "
            ]
          },
          "metadata": {}
        },
        {
          "output_type": "display_data",
          "data": {
            "text/plain": [
              "<IPython.core.display.Javascript object>"
            ],
            "application/javascript": [
              "\n",
              "                    async function getVisitorId() {\n",
              "                        return import('https://upgini.github.io/upgini/js/a.js')\n",
              "                            .then(FingerprintJS => FingerprintJS.load())\n",
              "                            .then(fp => fp.get())\n",
              "                            .then(result => result.visitorId);\n",
              "                    }\n",
              "                    "
            ]
          },
          "metadata": {}
        },
        {
          "output_type": "display_data",
          "data": {
            "text/plain": [
              "<IPython.core.display.Javascript object>"
            ],
            "application/javascript": [
              "\n",
              "                        async function getIP() {\n",
              "                            return fetch(\"https://api64.ipify.org\")\n",
              "                                .then(response => response.text())\n",
              "                                .then(data => data);\n",
              "                        }\n",
              "                        "
            ]
          },
          "metadata": {}
        },
        {
          "output_type": "display_data",
          "data": {
            "text/plain": [
              "<IPython.core.display.Javascript object>"
            ],
            "application/javascript": [
              "\n",
              "                        async function getIP() {\n",
              "                            return fetch(\"https://api64.ipify.org\")\n",
              "                                .then(response => response.text())\n",
              "                                .then(data => data);\n",
              "                        }\n",
              "                        "
            ]
          },
          "metadata": {}
        },
        {
          "output_type": "display_data",
          "data": {
            "text/plain": [
              "<IPython.core.display.Javascript object>"
            ],
            "application/javascript": [
              "\n",
              "                        async function getIP() {\n",
              "                            return fetch(\"https://api64.ipify.org\")\n",
              "                                .then(response => response.text())\n",
              "                                .then(data => data);\n",
              "                        }\n",
              "                        "
            ]
          },
          "metadata": {}
        },
        {
          "output_type": "display_data",
          "data": {
            "text/plain": [
              "<IPython.core.display.Javascript object>"
            ],
            "application/javascript": [
              "\n",
              "                        async function getIP() {\n",
              "                            return fetch(\"https://api64.ipify.org\")\n",
              "                                .then(response => response.text())\n",
              "                                .then(data => data);\n",
              "                        }\n",
              "                        "
            ]
          },
          "metadata": {}
        },
        {
          "output_type": "display_data",
          "data": {
            "text/plain": [
              "<IPython.core.display.Javascript object>"
            ],
            "application/javascript": [
              "\n",
              "                        async function getIP() {\n",
              "                            return fetch(\"https://api64.ipify.org\")\n",
              "                                .then(response => response.text())\n",
              "                                .then(data => data);\n",
              "                        }\n",
              "                        "
            ]
          },
          "metadata": {}
        },
        {
          "output_type": "display_data",
          "data": {
            "text/plain": [
              "<IPython.core.display.Javascript object>"
            ],
            "application/javascript": [
              "\n",
              "                        async function getIP() {\n",
              "                            return fetch(\"https://api64.ipify.org\")\n",
              "                                .then(response => response.text())\n",
              "                                .then(data => data);\n",
              "                        }\n",
              "                        "
            ]
          },
          "metadata": {}
        },
        {
          "output_type": "display_data",
          "data": {
            "text/plain": [
              "<IPython.core.display.Javascript object>"
            ],
            "application/javascript": [
              "\n",
              "                        async function getIP() {\n",
              "                            return fetch(\"https://api64.ipify.org\")\n",
              "                                .then(response => response.text())\n",
              "                                .then(data => data);\n",
              "                        }\n",
              "                        "
            ]
          },
          "metadata": {}
        },
        {
          "output_type": "display_data",
          "data": {
            "text/plain": [
              "<IPython.core.display.Javascript object>"
            ],
            "application/javascript": [
              "\n",
              "                        async function getIP() {\n",
              "                            return fetch(\"https://api64.ipify.org\")\n",
              "                                .then(response => response.text())\n",
              "                                .then(data => data);\n",
              "                        }\n",
              "                        "
            ]
          },
          "metadata": {}
        },
        {
          "output_type": "display_data",
          "data": {
            "text/plain": [
              "<IPython.core.display.Javascript object>"
            ],
            "application/javascript": [
              "\n",
              "                        async function getIP() {\n",
              "                            return fetch(\"https://api64.ipify.org\")\n",
              "                                .then(response => response.text())\n",
              "                                .then(data => data);\n",
              "                        }\n",
              "                        "
            ]
          },
          "metadata": {}
        },
        {
          "output_type": "display_data",
          "data": {
            "text/plain": [
              "<IPython.core.display.Javascript object>"
            ],
            "application/javascript": [
              "\n",
              "                        async function getIP() {\n",
              "                            return fetch(\"https://api64.ipify.org\")\n",
              "                                .then(response => response.text())\n",
              "                                .then(data => data);\n",
              "                        }\n",
              "                        "
            ]
          },
          "metadata": {}
        },
        {
          "output_type": "display_data",
          "data": {
            "text/plain": [
              "<IPython.core.display.Javascript object>"
            ],
            "application/javascript": [
              "\n",
              "                        async function getIP() {\n",
              "                            return fetch(\"https://api64.ipify.org\")\n",
              "                                .then(response => response.text())\n",
              "                                .then(data => data);\n",
              "                        }\n",
              "                        "
            ]
          },
          "metadata": {}
        },
        {
          "output_type": "display_data",
          "data": {
            "text/plain": [
              "<IPython.core.display.Javascript object>"
            ],
            "application/javascript": [
              "\n",
              "                        async function getIP() {\n",
              "                            return fetch(\"https://api64.ipify.org\")\n",
              "                                .then(response => response.text())\n",
              "                                .then(data => data);\n",
              "                        }\n",
              "                        "
            ]
          },
          "metadata": {}
        },
        {
          "output_type": "display_data",
          "data": {
            "text/plain": [
              "<IPython.core.display.Javascript object>"
            ],
            "application/javascript": [
              "\n",
              "                        async function getIP() {\n",
              "                            return fetch(\"https://api64.ipify.org\")\n",
              "                                .then(response => response.text())\n",
              "                                .then(data => data);\n",
              "                        }\n",
              "                        "
            ]
          },
          "metadata": {}
        },
        {
          "output_type": "display_data",
          "data": {
            "text/plain": [
              "<IPython.core.display.Javascript object>"
            ],
            "application/javascript": [
              "\n",
              "                        async function getIP() {\n",
              "                            return fetch(\"https://api64.ipify.org\")\n",
              "                                .then(response => response.text())\n",
              "                                .then(data => data);\n",
              "                        }\n",
              "                        "
            ]
          },
          "metadata": {}
        },
        {
          "output_type": "display_data",
          "data": {
            "text/plain": [
              "<IPython.core.display.Javascript object>"
            ],
            "application/javascript": [
              "\n",
              "                        async function getIP() {\n",
              "                            return fetch(\"https://api64.ipify.org\")\n",
              "                                .then(response => response.text())\n",
              "                                .then(data => data);\n",
              "                        }\n",
              "                        "
            ]
          },
          "metadata": {}
        },
        {
          "output_type": "display_data",
          "data": {
            "text/plain": [
              "<IPython.core.display.Javascript object>"
            ],
            "application/javascript": [
              "\n",
              "                        async function getIP() {\n",
              "                            return fetch(\"https://api64.ipify.org\")\n",
              "                                .then(response => response.text())\n",
              "                                .then(data => data);\n",
              "                        }\n",
              "                        "
            ]
          },
          "metadata": {}
        },
        {
          "output_type": "display_data",
          "data": {
            "text/plain": [
              "<IPython.core.display.Javascript object>"
            ],
            "application/javascript": [
              "\n",
              "                        async function getIP() {\n",
              "                            return fetch(\"https://api64.ipify.org\")\n",
              "                                .then(response => response.text())\n",
              "                                .then(data => data);\n",
              "                        }\n",
              "                        "
            ]
          },
          "metadata": {}
        },
        {
          "output_type": "display_data",
          "data": {
            "text/plain": [
              "<IPython.core.display.Javascript object>"
            ],
            "application/javascript": [
              "\n",
              "                        async function getIP() {\n",
              "                            return fetch(\"https://api64.ipify.org\")\n",
              "                                .then(response => response.text())\n",
              "                                .then(data => data);\n",
              "                        }\n",
              "                        "
            ]
          },
          "metadata": {}
        },
        {
          "output_type": "display_data",
          "data": {
            "text/plain": [
              "<IPython.core.display.Javascript object>"
            ],
            "application/javascript": [
              "\n",
              "                        async function getIP() {\n",
              "                            return fetch(\"https://api64.ipify.org\")\n",
              "                                .then(response => response.text())\n",
              "                                .then(data => data);\n",
              "                        }\n",
              "                        "
            ]
          },
          "metadata": {}
        },
        {
          "output_type": "display_data",
          "data": {
            "text/plain": [
              "<IPython.core.display.Javascript object>"
            ],
            "application/javascript": [
              "\n",
              "                        async function getIP() {\n",
              "                            return fetch(\"https://api64.ipify.org\")\n",
              "                                .then(response => response.text())\n",
              "                                .then(data => data);\n",
              "                        }\n",
              "                        "
            ]
          },
          "metadata": {}
        },
        {
          "output_type": "display_data",
          "data": {
            "text/plain": [
              "<IPython.core.display.Javascript object>"
            ],
            "application/javascript": [
              "\n",
              "                        async function getIP() {\n",
              "                            return fetch(\"https://api64.ipify.org\")\n",
              "                                .then(response => response.text())\n",
              "                                .then(data => data);\n",
              "                        }\n",
              "                        "
            ]
          },
          "metadata": {}
        },
        {
          "output_type": "display_data",
          "data": {
            "text/plain": [
              "<IPython.core.display.Javascript object>"
            ],
            "application/javascript": [
              "\n",
              "                        async function getIP() {\n",
              "                            return fetch(\"https://api64.ipify.org\")\n",
              "                                .then(response => response.text())\n",
              "                                .then(data => data);\n",
              "                        }\n",
              "                        "
            ]
          },
          "metadata": {}
        },
        {
          "output_type": "display_data",
          "data": {
            "text/plain": [
              "<IPython.core.display.Javascript object>"
            ],
            "application/javascript": [
              "\n",
              "                        async function getIP() {\n",
              "                            return fetch(\"https://api64.ipify.org\")\n",
              "                                .then(response => response.text())\n",
              "                                .then(data => data);\n",
              "                        }\n",
              "                        "
            ]
          },
          "metadata": {}
        },
        {
          "output_type": "display_data",
          "data": {
            "text/plain": [
              "<IPython.core.display.Javascript object>"
            ],
            "application/javascript": [
              "\n",
              "                        async function getIP() {\n",
              "                            return fetch(\"https://api64.ipify.org\")\n",
              "                                .then(response => response.text())\n",
              "                                .then(data => data);\n",
              "                        }\n",
              "                        "
            ]
          },
          "metadata": {}
        },
        {
          "output_type": "display_data",
          "data": {
            "text/plain": [
              "<IPython.core.display.Javascript object>"
            ],
            "application/javascript": [
              "\n",
              "                        async function getIP() {\n",
              "                            return fetch(\"https://api64.ipify.org\")\n",
              "                                .then(response => response.text())\n",
              "                                .then(data => data);\n",
              "                        }\n",
              "                        "
            ]
          },
          "metadata": {}
        },
        {
          "output_type": "stream",
          "name": "stdout",
          "text": [
            "\n",
            "Running search request, search_id=b480509f-90f8-4e74-9b03-ef3b3abec000\n",
            "We'll send email notification once it's completed, just use your personal api_key from profile.upgini.com\n",
            "\n",
            "\u001b[92m\u001b[1m\n",
            "44 relevant feature(s) found with the search keys: ['date']\u001b[0m\n"
          ]
        },
        {
          "output_type": "display_data",
          "data": {
            "text/plain": [
              "<IPython.core.display.HTML object>"
            ],
            "text/html": [
              "<style>\n",
              "            .upgini-df thead th {\n",
              "                font-weight:bold;\n",
              "                text-align: center;\n",
              "                padding: 0.5em;\n",
              "                border-bottom: 2px solid black;\n",
              "            }\n",
              "\n",
              "            .upgini-df tbody td {\n",
              "                padding: 0.5em;\n",
              "                color: black;\n",
              "            }\n",
              "\n",
              "            .upgini-df tbody tr:nth-child(odd) {\n",
              "                background-color: #ffffff;\n",
              "            }\n",
              "\n",
              "            .upgini-df tbody tr:nth-child(even) {\n",
              "                background-color: #f2f2f2;\n",
              "            }\n",
              "\n",
              "            .upgini-text {\n",
              "                text-align: left;\n",
              "            }\n",
              "\n",
              "            .upgini-number {\n",
              "                text-align: center;\n",
              "            }\n",
              "        </style>\n",
              "        <h2>Relevant features</h2>\n",
              "        <div style=\"display:flex; flex-direction:column; align-items:flex-end; width: fit-content;\">\n",
              "            \n",
              "            <div style=\"text-align: right\">\n",
              "                <button onclick=navigator.clipboard.writeText(decodeURI('Feature%20name%09SHAP%20value%09Coverage%20%25%09Value%20preview%09Provider%09Source%09Updates%0Aitem%0911.7273%09100.0%0940,%2030,%2018%09%09%09%0Astore%097.9536%09100.0%095,%2010,%207%09%09%09%0Af_events_date_week_sin1_847b5db1%093.5109%09100.0%090.0,%20-0.4339,%20-0.9749%09Upgini%09Calendar%20data%09Daily%0Af_autofe_roll_3d_min_1a2ad6d8bb%091.3821%09100.0%090.3253,%20-0.2795,%20-0.3817%09Training%20dataset,%20Upgini%09AutoFE%3A%20features%20from%20Training%20dataset,%3Ca%20href%3D%27https%3A%2F%2Fupgini.com%2F%23data_sources%27%20target%3D%27_blank%27%20rel%3D%27noopener%20noreferrer%27%3ECalendar%20data%3C%2Fa%3E%09Daily%0Af_financial_date_crude_oil_7d_to_1y_c3e0ad17%091.2849%09100.0%091.0001,%201.0769,%201.0154%09Upgini%09Markets%20data%09Daily%0Af_autofe_roll_3d_median_8e12f1e1e9%091.1626%09100.0%090.309,%20-0.263,%20-0.3496%09Training%20dataset,%20Upgini%09AutoFE%3A%20features%20from%20Training%20dataset,%3Ca%20href%3D%27https%3A%2F%2Fupgini.com%2F%23data_sources%27%20target%3D%27_blank%27%20rel%3D%27noopener%20noreferrer%27%3ECalendar%20data%3C%2Fa%3E%09Daily%0Af_events_date_year_cos1_9014a856%091.0967%09100.0%090.3253,%20-0.263,%20-0.3496%09Upgini%09Calendar%20data%09Daily%0Af_events_date_week_cos3_7525fe31%090.8722%09100.0%091.0,%20-0.2225,%200.6235%09Upgini%09Calendar%20data%09Daily%0Af_autofe_roll_3d_q75_927f52faea%090.6021%09100.0%0933.0,%2091.0,%2031.5%09Training%20dataset%09AutoFE%3A%20features%20from%20Training%20dataset%09%0Af_economic_date_cci_pca_8_54959a61%090.5847%09100.0%09-1.0818,%20-0.8969,%20-1.9917%09Upgini%09World%20economic%20indicators%09Daily%0Af_autofe_roll_7d_median_e8edff6d9a%090.5017%09100.0%0983.0,%2033.0,%20100.0%09Training%20dataset%09AutoFE%3A%20features%20from%20Training%20dataset%09%0Af_autofe_roll_3d_max_946bf6086b%090.4816%09100.0%09111.0,%2049.0,%2061.0%09Training%20dataset%09AutoFE%3A%20features%20from%20Training%20dataset%09%0Af_autofe_roll_2d_norm_mean_f28c29d7cf%090.419%0983.5010060362173%0911.6843,%200.8726,%201.0332%09Training%20dataset,%20Upgini%09AutoFE%3A%20features%20from%20Training%20dataset,%3Ca%20href%3D%27https%3A%2F%2Fupgini.com%2F%23data_sources%27%20target%3D%27_blank%27%20rel%3D%27noopener%20noreferrer%27%3EMarkets%20data%3C%2Fa%3E%09Daily%0Af_autofe_roll_7d_max_f49b75b311%090.3375%09100.0%09130.0,%2096.0,%2082.0%09Training%20dataset%09AutoFE%3A%20features%20from%20Training%20dataset%09%0Af_autofe_roll_2d_std_eb944d44c9%090.3057%0999.86233188605316%090.7283,%200.8627,%201.2657%09Training%20dataset,%20Upgini%09AutoFE%3A%20features%20from%20Training%20dataset,%3Ca%20href%3D%27https%3A%2F%2Fupgini.com%2F%23data_sources%27%20target%3D%27_blank%27%20rel%3D%27noopener%20noreferrer%27%3EMarkets%20data%3C%2Fa%3E%09Daily%0Af_economic_date_cbpol_umap_6_aa0352de%090.2971%09100.0%091.0587,%206.9596,%201.0408%09Upgini%09World%20economic%20indicators%09Daily%0Af_events_date_year_sin1_3c44bc64%090.2783%09100.0%09-0.9456,%200.9806,%200.9967%09Upgini%09Calendar%20data%09Daily%0Af_autofe_lag_2d_82f0cadd32%090.2733%0999.72466377210633%090.9445,%201.0953,%200.9544%09Training%20dataset,%20Upgini%09AutoFE%3A%20features%20from%20Training%20dataset,%3Ca%20href%3D%27https%3A%2F%2Fupgini.com%2F%23data_sources%27%20target%3D%27_blank%27%20rel%3D%27noopener%20noreferrer%27%3EMarkets%20data%3C%2Fa%3E%09Daily%0Af_autofe_delta_7d_9b21a1d315%090.2726%0999.19517102615694%0959.0,%2095.0,%2037.0%09Training%20dataset%09AutoFE%3A%20features%20from%20Training%20dataset%09%0Af_autofe_roll_2d_norm_mean_b7552e632c%090.2439%0983.71280313459705%093.4643,%20-0.5714,%20-7.5555%09Training%20dataset,%20Upgini%09AutoFE%3A%20features%20from%20Training%20dataset,%3Ca%20href%3D%27https%3A%2F%2Fupgini.com%2F%23data_sources%27%20target%3D%27_blank%27%20rel%3D%27noopener%20noreferrer%27%3EMarkets%20data%3C%2Fa%3E%09Daily%0Af_autofe_lag_7d_a158285546%090.2121%0999.19517102615694%090.9683,%200.9951,%200.9726%09Training%20dataset,%20Upgini%09AutoFE%3A%20features%20from%20Training%20dataset,%3Ca%20href%3D%27https%3A%2F%2Fupgini.com%2F%23data_sources%27%20target%3D%27_blank%27%20rel%3D%27noopener%20noreferrer%27%3EMarkets%20data%3C%2Fa%3E%09Daily%0Af_autofe_roll_2d_norm_mean_88a20b471e%090.2091%0983.97754950757175%09-124.3991,%201.6322,%20-8.9293%09Training%20dataset,%20Upgini%09AutoFE%3A%20features%20from%20Training%20dataset,%3Ca%20href%3D%27https%3A%2F%2Fupgini.com%2F%23data_sources%27%20target%3D%27_blank%27%20rel%3D%27noopener%20noreferrer%27%3EMarkets%20data%3C%2Fa%3E%09Daily%0Af_autofe_lag_3d_497740d13d%090.1891%0999.58699565815948%090.41,%200.13,%200.48%09Training%20dataset,%20Upgini%09AutoFE%3A%20features%20from%20Training%20dataset,%3Ca%20href%3D%27https%3A%2F%2Fupgini.com%2F%23data_sources%27%20target%3D%27_blank%27%20rel%3D%27noopener%20noreferrer%27%3EMarkets%20data%3C%2Fa%3E%09Daily%0Af_autofe_roll_2d_norm_mean_bc7947738c%090.1765%0982.70676691729324%090.6535,%201.3953,%205.8666%09Training%20dataset,%20Upgini%09AutoFE%3A%20features%20from%20Training%20dataset,%3Ca%20href%3D%27https%3A%2F%2Fupgini.com%2F%23data_sources%27%20target%3D%27_blank%27%20rel%3D%27noopener%20noreferrer%27%3EMarkets%20data%3C%2Fa%3E%09Daily%0Af_financial_date_usd_7d_to_1y_9cbe7ef8%090.1612%09100.0%090.9495,%201.0093,%200.944%09Upgini%09Markets%20data%09Daily%0Af_autofe_lag_7d_4a1d9c9dff%090.1591%0999.19517102615694%09107.0,%20129.0,%2045.0%09Training%20dataset%09AutoFE%3A%20features%20from%20Training%20dataset%09%0Af_financial_date_crude_oil_7d_to_7d_1y_shift_718136ef%090.1568%09100.0%091.1506,%200.9844,%201.2121%09Upgini%09Markets%20data%09Daily%0Af_autofe_roll_2d_std_187b1d1f8a%090.1498%0999.86233188605316%090.003,%200.0011,%200.0003%09Training%20dataset,%20Upgini%09AutoFE%3A%20features%20from%20Training%20dataset,%3Ca%20href%3D%27https%3A%2F%2Fupgini.com%2F%23data_sources%27%20target%3D%27_blank%27%20rel%3D%27noopener%20noreferrer%27%3EMarkets%20data%3C%2Fa%3E%09Daily%0Af_autofe_lag_7d_5eb2763364%090.1422%0999.19517102615694%090.8019,%201.2501,%200.8325%09Training%20dataset,%20Upgini%09AutoFE%3A%20features%20from%20Training%20dataset,%3Ca%20href%3D%27https%3A%2F%2Fupgini.com%2F%23data_sources%27%20target%3D%27_blank%27%20rel%3D%27noopener%20noreferrer%27%3EMarkets%20data%3C%2Fa%3E%09Daily%0Af_autofe_roll_3d_median_97804b26e6%090.1369%09100.0%09119.0,%2022.0,%20100.0%09Training%20dataset%09AutoFE%3A%20features%20from%20Training%20dataset%09%0Af_autofe_lag_7d_8b4b290346%090.1286%0999.19517102615694%0976.51,%2041.5,%2043.87%09Training%20dataset,%20Upgini%09AutoFE%3A%20features%20from%20Training%20dataset,%3Ca%20href%3D%27https%3A%2F%2Fupgini.com%2F%23data_sources%27%20target%3D%27_blank%27%20rel%3D%27noopener%20noreferrer%27%3EMarkets%20data%3C%2Fa%3E%09Daily%0Af_autofe_roll_7d_std_c9b63bd7b1%090.1249%0999.86233188605316%090.0035,%200.0181,%200.0119%09Training%20dataset,%20Upgini%09AutoFE%3A%20features%20from%20Training%20dataset,%3Ca%20href%3D%27https%3A%2F%2Fupgini.com%2F%23data_sources%27%20target%3D%27_blank%27%20rel%3D%27noopener%20noreferrer%27%3EMarkets%20data%3C%2Fa%3E%09Daily%0Af_autofe_lag_28d_aaadd46bbb%090.1174%0997.10896960711638%09107.0,%20129.0,%2045.0%09Training%20dataset%09AutoFE%3A%20features%20from%20Training%20dataset%09%0Af_autofe_lag_2d_c4918d0ea0%090.1104%0999.72466377210633%0912.85,%2011.94,%2017.08%09Training%20dataset,%20Upgini%09AutoFE%3A%20features%20from%20Training%20dataset,%3Ca%20href%3D%27https%3A%2F%2Fupgini.com%2F%23data_sources%27%20target%3D%27_blank%27%20rel%3D%27noopener%20noreferrer%27%3EMarkets%20data%3C%2Fa%3E%09Daily%0Af_financial_date_silver_7d_to_1y_0ccfe462%090.1004%09100.0%090.9445,%201.0953,%200.9544%09Upgini%09Markets%20data%09Daily%0Af_events_date_year_sin2_59955ffd%090.1003%09100.0%09-0.6153,%200.3847,%20-0.1628%09Upgini%09Calendar%20data%09Daily%0Af_autofe_lag_7d_17939c9a07%090.0992%0999.19517102615694%090.8293,%201.2134,%200.8184%09Training%20dataset,%20Upgini%09AutoFE%3A%20features%20from%20Training%20dataset,%3Ca%20href%3D%27https%3A%2F%2Fupgini.com%2F%23data_sources%27%20target%3D%27_blank%27%20rel%3D%27noopener%20noreferrer%27%3EMarkets%20data%3C%2Fa%3E%09Daily%0Af_financial_date_finance_umap_0_3c020a5e%090.0982%09100.0%099.7171,%2010.682,%209.6659%09Upgini%09Markets%20data%09Daily%0Af_autofe_lag_14d_0da85cf5ba%090.0941%0998.49624060150376%09107.0,%20129.0,%2045.0%09Training%20dataset%09AutoFE%3A%20features%20from%20Training%20dataset%09%0Af_autofe_roll_2d_norm_mean_d3cb397c66%090.0929%0979.84750608916657%091.5,%201.2,%2020972.0%09Training%20dataset,%20Upgini%09AutoFE%3A%20features%20from%20Training%20dataset,%3Ca%20href%3D%27https%3A%2F%2Fupgini.com%2F%23data_sources%27%20target%3D%27_blank%27%20rel%3D%27noopener%20noreferrer%27%3EMarkets%20data%3C%2Fa%3E%09Daily%0Af_autofe_roll_2d_norm_mean_85d150daec%090.0916%0982.7385364820502%09-0.3636,%201.4453,%20-2.6882%09Training%20dataset,%20Upgini%09AutoFE%3A%20features%20from%20Training%20dataset,%3Ca%20href%3D%27https%3A%2F%2Fupgini.com%2F%23data_sources%27%20target%3D%27_blank%27%20rel%3D%27noopener%20noreferrer%27%3EMarkets%20data%3C%2Fa%3E%09Daily%0Af_autofe_lag_7d_383f2b72f6%090.0891%0999.19517102615694%090.9445,%201.0953,%200.9544%09Training%20dataset,%20Upgini%09AutoFE%3A%20features%20from%20Training%20dataset,%3Ca%20href%3D%27https%3A%2F%2Fupgini.com%2F%23data_sources%27%20target%3D%27_blank%27%20rel%3D%27noopener%20noreferrer%27%3EMarkets%20data%3C%2Fa%3E%09Daily%0Af_autofe_roll_7d_norm_mean_e25c9053c6%090.0813%09100.0%091.0584,%200.9653,%201.039%09Training%20dataset,%20Upgini%09AutoFE%3A%20features%20from%20Training%20dataset,%3Ca%20href%3D%27https%3A%2F%2Fupgini.com%2F%23data_sources%27%20target%3D%27_blank%27%20rel%3D%27noopener%20noreferrer%27%3EMarkets%20data%3C%2Fa%3E%09Daily%0Af_autofe_lag_84d_f82bbe9151%090.08%0990.81859578523775%09107.0,%20129.0,%2045.0%09Training%20dataset%09AutoFE%3A%20features%20from%20Training%20dataset%09%0A'))>📂 Copy</button>\n",
              "                <a href='mailto:<Share with...>?subject=Relevant external data sources from Upgini.com&body=Feature%20name%09SHAP%20value%09Coverage%20%25%09Value%20preview%09Provider%09Source%09Updates%0Aitem%0911.7273%09100.0%0940,%2030,%2018%09%09%09%0Astore%097.9536%09100.0%095,%2010,%207%09%09%09%0Af_events_date_week_sin1_847b5db1%093.5109%09100.0%090.0,%20-0.4339,%20-0.9749%09Upgini%09Calendar%20data%09Daily%0Af_autofe_roll_3d_min_1a2ad6d8bb%091.3821%09100.0%090.3253,%20-0.2795,%20-0.3817%09Training%20dataset,%20Upgini%09AutoFE%3A%20features%20from%20Training%20dataset,%3Ca%20href%3D%27https%3A%2F%2Fupgini.com%2F%23data_sources%27%20target%3D%27_blank%27%20rel%3D%27noopener%20noreferrer%27%3ECalendar%20data%3C%2Fa%3E%09Daily%0Af_financial_date_crude_oil_7d_to_1y_c3e0ad17%091.2849%09100.0%091.0001,%201.0769,%201.0154%09Upgini%09Markets%20data%09Daily%0Af_autofe_roll_3d_median_8e12f1e1e9%091.1626%09100.0%090.309,%20-0.263,%20-0.3496%09Training%20dataset,%20Upgini%09AutoFE%3A%20features%20from%20Training%20dataset,%3Ca%20href%3D%27https%3A%2F%2Fupgini.com%2F%23data_sources%27%20target%3D%27_blank%27%20rel%3D%27noopener%20noreferrer%27%3ECalendar%20data%3C%2Fa%3E%09Daily%0Af_events_date_year_cos1_9014a856%091.0967%09100.0%090.3253,%20-0.263,%20-0.3496%09Upgini%09Calendar%20data%09Daily%0Af_events_date_week_cos3_7525fe31%090.8722%09100.0%091.0,%20-0.2225,%200.6235%09Upgini%09Calendar%20data%09Daily%0Af_autofe_roll_3d_q75_927f52faea%090.6021%09100.0%0933.0,%2091.0,%2031.5%09Training%20dataset%09AutoFE%3A%20features%20from%20Training%20dataset%09%0Af_economic_date_cci_pca_8_54959a61%090.5847%09100.0%09-1.0818,%20-0.8969,%20-1.9917%09Upgini%09World%20economic%20indicators%09Daily%0Af_autofe_roll_7d_median_e8edff6d9a%090.5017%09100.0%0983.0,%2033.0,%20100.0%09Training%20dataset%09AutoFE%3A%20features%20from%20Training%20dataset%09%0Af_autofe_roll_3d_max_946bf6086b%090.4816%09100.0%09111.0,%2049.0,%2061.0%09Training%20dataset%09AutoFE%3A%20features%20from%20Training%20dataset%09%0Af_autofe_roll_2d_norm_mean_f28c29d7cf%090.419%0983.5010060362173%0911.6843,%200.8726,%201.0332%09Training%20dataset,%20Upgini%09AutoFE%3A%20features%20from%20Training%20dataset,%3Ca%20href%3D%27https%3A%2F%2Fupgini.com%2F%23data_sources%27%20target%3D%27_blank%27%20rel%3D%27noopener%20noreferrer%27%3EMarkets%20data%3C%2Fa%3E%09Daily%0Af_autofe_roll_7d_max_f49b75b311%090.3375%09100.0%09130.0,%2096.0,%2082.0%09Training%20dataset%09AutoFE%3A%20features%20from%20Training%20dataset%09%0Af_autofe_roll_2d_std_eb944d44c9%090.3057%0999.86233188605316%090.7283,%200.8627,%201.2657%09Training%20dataset,%20Upgini%09AutoFE%3A%20features%20from%20Training%20dataset,%3Ca%20href%3D%27https%3A%2F%2Fupgini.com%2F%23data_sources%27%20target%3D%27_blank%27%20rel%3D%27noopener%20noreferrer%27%3EMarkets%20data%3C%2Fa%3E%09Daily%0Af_economic_date_cbpol_umap_6_aa0352de%090.2971%09100.0%091.0587,%206.9596,%201.0408%09Upgini%09World%20economic%20indicators%09Daily%0Af_events_date_year_sin1_3c44bc64%090.2783%09100.0%09-0.9456,%200.9806,%200.9967%09Upgini%09Calendar%20data%09Daily%0Af_autofe_lag_2d_82f0cadd32%090.2733%0999.72466377210633%090.9445,%201.0953,%200.9544%09Training%20dataset,%20Upgini%09AutoFE%3A%20features%20from%20Training%20dataset,%3Ca%20href%3D%27https%3A%2F%2Fupgini.com%2F%23data_sources%27%20target%3D%27_blank%27%20rel%3D%27noopener%20noreferrer%27%3EMarkets%20data%3C%2Fa%3E%09Daily%0Af_autofe_delta_7d_9b21a1d315%090.2726%0999.19517102615694%0959.0,%2095.0,%2037.0%09Training%20dataset%09AutoFE%3A%20features%20from%20Training%20dataset%09%0Af_autofe_roll_2d_norm_mean_b7552e632c%090.2439%0983.71280313459705%093.4643,%20-0.5714,%20-7.5555%09Training%20dataset,%20Upgini%09AutoFE%3A%20features%20from%20Training%20dataset,%3Ca%20href%3D%27https%3A%2F%2Fupgini.com%2F%23data_sources%27%20target%3D%27_blank%27%20rel%3D%27noopener%20noreferrer%27%3EMarkets%20data%3C%2Fa%3E%09Daily%0Af_autofe_lag_7d_a158285546%090.2121%0999.19517102615694%090.9683,%200.9951,%200.9726%09Training%20dataset,%20Upgini%09AutoFE%3A%20features%20from%20Training%20dataset,%3Ca%20href%3D%27https%3A%2F%2Fupgini.com%2F%23data_sources%27%20target%3D%27_blank%27%20rel%3D%27noopener%20noreferrer%27%3EMarkets%20data%3C%2Fa%3E%09Daily%0Af_autofe_roll_2d_norm_mean_88a20b471e%090.2091%0983.97754950757175%09-124.3991,%201.6322,%20-8.9293%09Training%20dataset,%20Upgini%09AutoFE%3A%20features%20from%20Training%20dataset,%3Ca%20href%3D%27https%3A%2F%2Fupgini.com%2F%23data_sources%27%20target%3D%27_blank%27%20rel%3D%27noopener%20noreferrer%27%3EMarkets%20data%3C%2Fa%3E%09Daily%0Af_autofe_lag_3d_497740d13d%090.1891%0999.58699565815948%090.41,%200.13,%200.48%09Training%20dataset,%20Upgini%09AutoFE%3A%20features%20from%20Training%20dataset,%3Ca%20href%3D%27https%3A%2F%2Fupgini.com%2F%23data_sources%27%20target%3D%27_blank%27%20rel%3D%27noopener%20noreferrer%27%3EMarkets%20data%3C%2Fa%3E%09Daily%0Af_autofe_roll_2d_norm_mean_bc7947738c%090.1765%0982.70676691729324%090.6535,%201.3953,%205.8666%09Training%20dataset,%20Upgini%09AutoFE%3A%20features%20from%20Training%20dataset,%3Ca%20href%3D%27https%3A%2F%2Fupgini.com%2F%23data_sources%27%20target%3D%27_blank%27%20rel%3D%27noopener%20noreferrer%27%3EMarkets%20data%3C%2Fa%3E%09Daily%0Af_financial_date_usd_7d_to_1y_9cbe7ef8%090.1612%09100.0%090.9495,%201.0093,%200.944%09Upgini%09Markets%20data%09Daily%0Af_autofe_lag_7d_4a1d9c9dff%090.1591%0999.19517102615694%09107.0,%20129.0,%2045.0%09Training%20dataset%09AutoFE%3A%20features%20from%20Training%20dataset%09%0Af_financial_date_crude_oil_7d_to_7d_1y_shift_718136ef%090.1568%09100.0%091.1506,%200.9844,%201.2121%09Upgini%09Markets%20data%09Daily%0Af_autofe_roll_2d_std_187b1d1f8a%090.1498%0999.86233188605316%090.003,%200.0011,%200.0003%09Training%20dataset,%20Upgini%09AutoFE%3A%20features%20from%20Training%20dataset,%3Ca%20href%3D%27https%3A%2F%2Fupgini.com%2F%23data_sources%27%20target%3D%27_blank%27%20rel%3D%27noopener%20noreferrer%27%3EMarkets%20data%3C%2Fa%3E%09Daily%0Af_autofe_lag_7d_5eb2763364%090.1422%0999.19517102615694%090.8019,%201.2501,%200.8325%09Training%20dataset,%20Upgini%09AutoFE%3A%20features%20from%20Training%20dataset,%3Ca%20href%3D%27https%3A%2F%2Fupgini.com%2F%23data_sources%27%20target%3D%27_blank%27%20rel%3D%27noopener%20noreferrer%27%3EMarkets%20data%3C%2Fa%3E%09Daily%0Af_autofe_roll_3d_median_97804b26e6%090.1369%09100.0%09119.0,%2022.0,%20100.0%09Training%20dataset%09AutoFE%3A%20features%20from%20Training%20dataset%09%0Af_autofe_lag_7d_8b4b290346%090.1286%0999.19517102615694%0976.51,%2041.5,%2043.87%09Training%20dataset,%20Upgini%09AutoFE%3A%20features%20from%20Training%20dataset,%3Ca%20href%3D%27https%3A%2F%2Fupgini.com%2F%23data_sources%27%20target%3D%27_blank%27%20rel%3D%27noopener%20noreferrer%27%3EMarkets%20data%3C%2Fa%3E%09Daily%0Af_autofe_roll_7d_std_c9b63bd7b1%090.1249%0999.86233188605316%090.0035,%200.0181,%200.0119%09Training%20dataset,%20Upgini%09AutoFE%3A%20features%20from%20Training%20dataset,%3Ca%20href%3D%27https%3A%2F%2Fupgini.com%2F%23data_sources%27%20target%3D%27_blank%27%20rel%3D%27noopener%20noreferrer%27%3EMarkets%20data%3C%2Fa%3E%09Daily%0Af_autofe_lag_28d_aaadd46bbb%090.1174%0997.10896960711638%09107.0,%20129.0,%2045.0%09Training%20dataset%09AutoFE%3A%20features%20from%20Training%20dataset%09%0Af_autofe_lag_2d_c4918d0ea0%090.1104%0999.72466377210633%0912.85,%2011.94,%2017.08%09Training%20dataset,%20Upgini%09AutoFE%3A%20features%20from%20Training%20dataset,%3Ca%20href%3D%27https%3A%2F%2Fupgini.com%2F%23data_sources%27%20target%3D%27_blank%27%20rel%3D%27noopener%20noreferrer%27%3EMarkets%20data%3C%2Fa%3E%09Daily%0Af_financial_date_silver_7d_to_1y_0ccfe462%090.1004%09100.0%090.9445,%201.0953,%200.9544%09Upgini%09Markets%20data%09Daily%0Af_events_date_year_sin2_59955ffd%090.1003%09100.0%09-0.6153,%200.3847,%20-0.1628%09Upgini%09Calendar%20data%09Daily%0Af_autofe_lag_7d_17939c9a07%090.0992%0999.19517102615694%090.8293,%201.2134,%200.8184%09Training%20dataset,%20Upgini%09AutoFE%3A%20features%20from%20Training%20dataset,%3Ca%20href%3D%27https%3A%2F%2Fupgini.com%2F%23data_sources%27%20target%3D%27_blank%27%20rel%3D%27noopener%20noreferrer%27%3EMarkets%20data%3C%2Fa%3E%09Daily%0Af_financial_date_finance_umap_0_3c020a5e%090.0982%09100.0%099.7171,%2010.682,%209.6659%09Upgini%09Markets%20data%09Daily%0Af_autofe_lag_14d_0da85cf5ba%090.0941%0998.49624060150376%09107.0,%20129.0,%2045.0%09Training%20dataset%09AutoFE%3A%20features%20from%20Training%20dataset%09%0Af_autofe_roll_2d_norm_mean_d3cb397c66%090.0929%0979.84750608916657%091.5,%201.2,%2020972.0%09Training%20dataset,%20Upgini%09AutoFE%3A%20features%20from%20Training%20dataset,%3Ca%20href%3D%27https%3A%2F%2Fupgini.com%2F%23data_sources%27%20target%3D%27_blank%27%20rel%3D%27noopener%20noreferrer%27%3EMarkets%20data%3C%2Fa%3E%09Daily%0Af_autofe_roll_2d_norm_mean_85d150daec%090.0916%0982.7385364820502%09-0.3636,%201.4453,%20-2.6882%09Training%20dataset,%20Upgini%09AutoFE%3A%20features%20from%20Training%20dataset,%3Ca%20href%3D%27https%3A%2F%2Fupgini.com%2F%23data_sources%27%20target%3D%27_blank%27%20rel%3D%27noopener%20noreferrer%27%3EMarkets%20data%3C%2Fa%3E%09Daily%0Af_autofe_lag_7d_383f2b72f6%090.0891%0999.19517102615694%090.9445,%201.0953,%200.9544%09Training%20dataset,%20Upgini%09AutoFE%3A%20features%20from%20Training%20dataset,%3Ca%20href%3D%27https%3A%2F%2Fupgini.com%2F%23data_sources%27%20target%3D%27_blank%27%20rel%3D%27noopener%20noreferrer%27%3EMarkets%20data%3C%2Fa%3E%09Daily%0Af_autofe_roll_7d_norm_mean_e25c9053c6%090.0813%09100.0%091.0584,%200.9653,%201.039%09Training%20dataset,%20Upgini%09AutoFE%3A%20features%20from%20Training%20dataset,%3Ca%20href%3D%27https%3A%2F%2Fupgini.com%2F%23data_sources%27%20target%3D%27_blank%27%20rel%3D%27noopener%20noreferrer%27%3EMarkets%20data%3C%2Fa%3E%09Daily%0Af_autofe_lag_84d_f82bbe9151%090.08%0990.81859578523775%09107.0,%20129.0,%2045.0%09Training%20dataset%09AutoFE%3A%20features%20from%20Training%20dataset%09%0A'>\n",
              "                    <button>📨 Share</button>\n",
              "                </a>\n",
              "            </div>\n",
              "            <table class='upgini-df'><thead><th>Feature name</th><th>SHAP value</th><th>Coverage %</th><th>Value preview</th><th>Provider</th><th>Source</th><th>Updates</th></thead><tbody><tr><td class='upgini-text'>item</td><td class='upgini-number'>11.7273</td><td class='upgini-number'>100.0000</td><td class='upgini-text'>40, 30, 18</td><td class='upgini-text'>&nbsp;</td><td class='upgini-text'>&nbsp;</td><td class='upgini-text'>&nbsp;</td></tr><tr><td class='upgini-text'>store</td><td class='upgini-number'>7.9536</td><td class='upgini-number'>100.0000</td><td class='upgini-text'>5, 10, 7</td><td class='upgini-text'>&nbsp;</td><td class='upgini-text'>&nbsp;</td><td class='upgini-text'>&nbsp;</td></tr><tr><td class='upgini-text'><a href='https://docs.upgini.com/public/calendar/calendar#f_events_date_week_sin1_847b5db1' target='_blank' rel='noopener noreferrer'>f_events_date_week_sin1_847b5db1</a></td><td class='upgini-number'>3.5109</td><td class='upgini-number'>100.0000</td><td class='upgini-text'>0.0, -0.4339, -0.9749</td><td class='upgini-text'><a href='https://upgini.com/' target='_blank' rel='noopener noreferrer'>Upgini</a></td><td class='upgini-text'><a href='https://upgini.com/#data_sources' target='_blank' rel='noopener noreferrer'>Calendar data</a></td><td class='upgini-text'>Daily</td></tr><tr><td class='upgini-text'>f_autofe_roll_3d_min_1a2ad6d8bb</td><td class='upgini-number'>1.3821</td><td class='upgini-number'>100.0000</td><td class='upgini-text'>0.3253, -0.2795, -0.3817</td><td class='upgini-text'>Training dataset,<a href='https://upgini.com/' target='_blank' rel='noopener noreferrer'>Upgini</a></td><td class='upgini-text'>AutoFE: features from Training dataset,<a href='https://upgini.com/#data_sources' target='_blank' rel='noopener noreferrer'>Calendar data</a></td><td class='upgini-text'>Daily</td></tr><tr><td class='upgini-text'><a href='https://docs.upgini.com/public/markets/finance#f_financial_date_crude_oil_7d_to_1y_c3e0ad17' target='_blank' rel='noopener noreferrer'>f_financial_date_crude_oil_7d_to_1y_c3e0ad17</a></td><td class='upgini-number'>1.2849</td><td class='upgini-number'>100.0000</td><td class='upgini-text'>1.0001, 1.0769, 1.0154</td><td class='upgini-text'><a href='https://upgini.com/' target='_blank' rel='noopener noreferrer'>Upgini</a></td><td class='upgini-text'><a href='https://upgini.com/#data_sources' target='_blank' rel='noopener noreferrer'>Markets data</a></td><td class='upgini-text'>Daily</td></tr><tr><td class='upgini-text'>f_autofe_roll_3d_median_8e12f1e1e9</td><td class='upgini-number'>1.1626</td><td class='upgini-number'>100.0000</td><td class='upgini-text'>0.309, -0.263, -0.3496</td><td class='upgini-text'>Training dataset,<a href='https://upgini.com/' target='_blank' rel='noopener noreferrer'>Upgini</a></td><td class='upgini-text'>AutoFE: features from Training dataset,<a href='https://upgini.com/#data_sources' target='_blank' rel='noopener noreferrer'>Calendar data</a></td><td class='upgini-text'>Daily</td></tr><tr><td class='upgini-text'><a href='https://docs.upgini.com/public/calendar/calendar#f_events_date_year_cos1_9014a856' target='_blank' rel='noopener noreferrer'>f_events_date_year_cos1_9014a856</a></td><td class='upgini-number'>1.0967</td><td class='upgini-number'>100.0000</td><td class='upgini-text'>0.3253, -0.263, -0.3496</td><td class='upgini-text'><a href='https://upgini.com/' target='_blank' rel='noopener noreferrer'>Upgini</a></td><td class='upgini-text'><a href='https://upgini.com/#data_sources' target='_blank' rel='noopener noreferrer'>Calendar data</a></td><td class='upgini-text'>Daily</td></tr><tr><td class='upgini-text'><a href='https://docs.upgini.com/public/calendar/calendar#f_events_date_week_cos3_7525fe31' target='_blank' rel='noopener noreferrer'>f_events_date_week_cos3_7525fe31</a></td><td class='upgini-number'>0.8722</td><td class='upgini-number'>100.0000</td><td class='upgini-text'>1.0, -0.2225, 0.6235</td><td class='upgini-text'><a href='https://upgini.com/' target='_blank' rel='noopener noreferrer'>Upgini</a></td><td class='upgini-text'><a href='https://upgini.com/#data_sources' target='_blank' rel='noopener noreferrer'>Calendar data</a></td><td class='upgini-text'>Daily</td></tr><tr><td class='upgini-text'>f_autofe_roll_3d_q75_927f52faea</td><td class='upgini-number'>0.6021</td><td class='upgini-number'>100.0000</td><td class='upgini-text'>33.0, 91.0, 31.5</td><td class='upgini-text'>Training dataset</td><td class='upgini-text'>AutoFE: features from Training dataset</td><td class='upgini-text'>&nbsp;</td></tr><tr><td class='upgini-text'><a href='https://docs.upgini.com/public/economics/cci_pca#f_economic_date_cci_pca_8_54959a61' target='_blank' rel='noopener noreferrer'>f_economic_date_cci_pca_8_54959a61</a></td><td class='upgini-number'>0.5847</td><td class='upgini-number'>100.0000</td><td class='upgini-text'>-1.0818, -0.8969, -1.9917</td><td class='upgini-text'><a href='https://upgini.com/' target='_blank' rel='noopener noreferrer'>Upgini</a></td><td class='upgini-text'><a href='https://upgini.com/#data_sources' target='_blank' rel='noopener noreferrer'>World economic indicators</a></td><td class='upgini-text'>Daily</td></tr><tr><td class='upgini-text'>f_autofe_roll_7d_median_e8edff6d9a</td><td class='upgini-number'>0.5017</td><td class='upgini-number'>100.0000</td><td class='upgini-text'>83.0, 33.0, 100.0</td><td class='upgini-text'>Training dataset</td><td class='upgini-text'>AutoFE: features from Training dataset</td><td class='upgini-text'>&nbsp;</td></tr><tr><td class='upgini-text'>f_autofe_roll_3d_max_946bf6086b</td><td class='upgini-number'>0.4816</td><td class='upgini-number'>100.0000</td><td class='upgini-text'>111.0, 49.0, 61.0</td><td class='upgini-text'>Training dataset</td><td class='upgini-text'>AutoFE: features from Training dataset</td><td class='upgini-text'>&nbsp;</td></tr><tr><td class='upgini-text'>f_autofe_roll_2d_norm_mean_f28c29d7cf</td><td class='upgini-number'>0.4190</td><td class='upgini-number'>83.5010</td><td class='upgini-text'>11.6843, 0.8726, 1.0332</td><td class='upgini-text'>Training dataset,<a href='https://upgini.com/' target='_blank' rel='noopener noreferrer'>Upgini</a></td><td class='upgini-text'>AutoFE: features from Training dataset,<a href='https://upgini.com/#data_sources' target='_blank' rel='noopener noreferrer'>Markets data</a></td><td class='upgini-text'>Daily</td></tr><tr><td class='upgini-text'>f_autofe_roll_7d_max_f49b75b311</td><td class='upgini-number'>0.3375</td><td class='upgini-number'>100.0000</td><td class='upgini-text'>130.0, 96.0, 82.0</td><td class='upgini-text'>Training dataset</td><td class='upgini-text'>AutoFE: features from Training dataset</td><td class='upgini-text'>&nbsp;</td></tr><tr><td class='upgini-text'>f_autofe_roll_2d_std_eb944d44c9</td><td class='upgini-number'>0.3057</td><td class='upgini-number'>99.8623</td><td class='upgini-text'>0.7283, 0.8627, 1.2657</td><td class='upgini-text'>Training dataset,<a href='https://upgini.com/' target='_blank' rel='noopener noreferrer'>Upgini</a></td><td class='upgini-text'>AutoFE: features from Training dataset,<a href='https://upgini.com/#data_sources' target='_blank' rel='noopener noreferrer'>Markets data</a></td><td class='upgini-text'>Daily</td></tr><tr><td class='upgini-text'><a href='https://docs.upgini.com/public/economics/cbpol_umap#f_economic_date_cbpol_umap_6_aa0352de' target='_blank' rel='noopener noreferrer'>f_economic_date_cbpol_umap_6_aa0352de</a></td><td class='upgini-number'>0.2971</td><td class='upgini-number'>100.0000</td><td class='upgini-text'>1.0587, 6.9596, 1.0408</td><td class='upgini-text'><a href='https://upgini.com/' target='_blank' rel='noopener noreferrer'>Upgini</a></td><td class='upgini-text'><a href='https://upgini.com/#data_sources' target='_blank' rel='noopener noreferrer'>World economic indicators</a></td><td class='upgini-text'>Daily</td></tr><tr><td class='upgini-text'><a href='https://docs.upgini.com/public/calendar/calendar#f_events_date_year_sin1_3c44bc64' target='_blank' rel='noopener noreferrer'>f_events_date_year_sin1_3c44bc64</a></td><td class='upgini-number'>0.2783</td><td class='upgini-number'>100.0000</td><td class='upgini-text'>-0.9456, 0.9806, 0.9967</td><td class='upgini-text'><a href='https://upgini.com/' target='_blank' rel='noopener noreferrer'>Upgini</a></td><td class='upgini-text'><a href='https://upgini.com/#data_sources' target='_blank' rel='noopener noreferrer'>Calendar data</a></td><td class='upgini-text'>Daily</td></tr><tr><td class='upgini-text'>f_autofe_lag_2d_82f0cadd32</td><td class='upgini-number'>0.2733</td><td class='upgini-number'>99.7247</td><td class='upgini-text'>0.9445, 1.0953, 0.9544</td><td class='upgini-text'>Training dataset,<a href='https://upgini.com/' target='_blank' rel='noopener noreferrer'>Upgini</a></td><td class='upgini-text'>AutoFE: features from Training dataset,<a href='https://upgini.com/#data_sources' target='_blank' rel='noopener noreferrer'>Markets data</a></td><td class='upgini-text'>Daily</td></tr><tr><td class='upgini-text'>f_autofe_delta_7d_9b21a1d315</td><td class='upgini-number'>0.2726</td><td class='upgini-number'>99.1952</td><td class='upgini-text'>59.0, 95.0, 37.0</td><td class='upgini-text'>Training dataset</td><td class='upgini-text'>AutoFE: features from Training dataset</td><td class='upgini-text'>&nbsp;</td></tr><tr><td class='upgini-text'>f_autofe_roll_2d_norm_mean_b7552e632c</td><td class='upgini-number'>0.2439</td><td class='upgini-number'>83.7128</td><td class='upgini-text'>3.4643, -0.5714, -7.5555</td><td class='upgini-text'>Training dataset,<a href='https://upgini.com/' target='_blank' rel='noopener noreferrer'>Upgini</a></td><td class='upgini-text'>AutoFE: features from Training dataset,<a href='https://upgini.com/#data_sources' target='_blank' rel='noopener noreferrer'>Markets data</a></td><td class='upgini-text'>Daily</td></tr><tr><td class='upgini-text'>f_autofe_lag_7d_a158285546</td><td class='upgini-number'>0.2121</td><td class='upgini-number'>99.1952</td><td class='upgini-text'>0.9683, 0.9951, 0.9726</td><td class='upgini-text'>Training dataset,<a href='https://upgini.com/' target='_blank' rel='noopener noreferrer'>Upgini</a></td><td class='upgini-text'>AutoFE: features from Training dataset,<a href='https://upgini.com/#data_sources' target='_blank' rel='noopener noreferrer'>Markets data</a></td><td class='upgini-text'>Daily</td></tr><tr><td class='upgini-text'>f_autofe_roll_2d_norm_mean_88a20b471e</td><td class='upgini-number'>0.2091</td><td class='upgini-number'>83.9775</td><td class='upgini-text'>-124.3991, 1.6322, -8.9293</td><td class='upgini-text'>Training dataset,<a href='https://upgini.com/' target='_blank' rel='noopener noreferrer'>Upgini</a></td><td class='upgini-text'>AutoFE: features from Training dataset,<a href='https://upgini.com/#data_sources' target='_blank' rel='noopener noreferrer'>Markets data</a></td><td class='upgini-text'>Daily</td></tr><tr><td class='upgini-text'>f_autofe_lag_3d_497740d13d</td><td class='upgini-number'>0.1891</td><td class='upgini-number'>99.5870</td><td class='upgini-text'>0.41, 0.13, 0.48</td><td class='upgini-text'>Training dataset,<a href='https://upgini.com/' target='_blank' rel='noopener noreferrer'>Upgini</a></td><td class='upgini-text'>AutoFE: features from Training dataset,<a href='https://upgini.com/#data_sources' target='_blank' rel='noopener noreferrer'>Markets data</a></td><td class='upgini-text'>Daily</td></tr><tr><td class='upgini-text'>f_autofe_roll_2d_norm_mean_bc7947738c</td><td class='upgini-number'>0.1765</td><td class='upgini-number'>82.7068</td><td class='upgini-text'>0.6535, 1.3953, 5.8666</td><td class='upgini-text'>Training dataset,<a href='https://upgini.com/' target='_blank' rel='noopener noreferrer'>Upgini</a></td><td class='upgini-text'>AutoFE: features from Training dataset,<a href='https://upgini.com/#data_sources' target='_blank' rel='noopener noreferrer'>Markets data</a></td><td class='upgini-text'>Daily</td></tr><tr><td class='upgini-text'><a href='https://docs.upgini.com/public/markets/finance#f_financial_date_usd_7d_to_1y_9cbe7ef8' target='_blank' rel='noopener noreferrer'>f_financial_date_usd_7d_to_1y_9cbe7ef8</a></td><td class='upgini-number'>0.1612</td><td class='upgini-number'>100.0000</td><td class='upgini-text'>0.9495, 1.0093, 0.944</td><td class='upgini-text'><a href='https://upgini.com/' target='_blank' rel='noopener noreferrer'>Upgini</a></td><td class='upgini-text'><a href='https://upgini.com/#data_sources' target='_blank' rel='noopener noreferrer'>Markets data</a></td><td class='upgini-text'>Daily</td></tr><tr><td class='upgini-text'>f_autofe_lag_7d_4a1d9c9dff</td><td class='upgini-number'>0.1591</td><td class='upgini-number'>99.1952</td><td class='upgini-text'>107.0, 129.0, 45.0</td><td class='upgini-text'>Training dataset</td><td class='upgini-text'>AutoFE: features from Training dataset</td><td class='upgini-text'>&nbsp;</td></tr><tr><td class='upgini-text'><a href='https://docs.upgini.com/public/markets/finance#f_financial_date_crude_oil_7d_to_7d_1y_shift_718136ef' target='_blank' rel='noopener noreferrer'>f_financial_date_crude_oil_7d_to_7d_1y_shift_718136ef</a></td><td class='upgini-number'>0.1568</td><td class='upgini-number'>100.0000</td><td class='upgini-text'>1.1506, 0.9844, 1.2121</td><td class='upgini-text'><a href='https://upgini.com/' target='_blank' rel='noopener noreferrer'>Upgini</a></td><td class='upgini-text'><a href='https://upgini.com/#data_sources' target='_blank' rel='noopener noreferrer'>Markets data</a></td><td class='upgini-text'>Daily</td></tr><tr><td class='upgini-text'>f_autofe_roll_2d_std_187b1d1f8a</td><td class='upgini-number'>0.1498</td><td class='upgini-number'>99.8623</td><td class='upgini-text'>0.003, 0.0011, 0.0003</td><td class='upgini-text'>Training dataset,<a href='https://upgini.com/' target='_blank' rel='noopener noreferrer'>Upgini</a></td><td class='upgini-text'>AutoFE: features from Training dataset,<a href='https://upgini.com/#data_sources' target='_blank' rel='noopener noreferrer'>Markets data</a></td><td class='upgini-text'>Daily</td></tr><tr><td class='upgini-text'>f_autofe_lag_7d_5eb2763364</td><td class='upgini-number'>0.1422</td><td class='upgini-number'>99.1952</td><td class='upgini-text'>0.8019, 1.2501, 0.8325</td><td class='upgini-text'>Training dataset,<a href='https://upgini.com/' target='_blank' rel='noopener noreferrer'>Upgini</a></td><td class='upgini-text'>AutoFE: features from Training dataset,<a href='https://upgini.com/#data_sources' target='_blank' rel='noopener noreferrer'>Markets data</a></td><td class='upgini-text'>Daily</td></tr><tr><td class='upgini-text'>f_autofe_roll_3d_median_97804b26e6</td><td class='upgini-number'>0.1369</td><td class='upgini-number'>100.0000</td><td class='upgini-text'>119.0, 22.0, 100.0</td><td class='upgini-text'>Training dataset</td><td class='upgini-text'>AutoFE: features from Training dataset</td><td class='upgini-text'>&nbsp;</td></tr><tr><td class='upgini-text'>f_autofe_lag_7d_8b4b290346</td><td class='upgini-number'>0.1286</td><td class='upgini-number'>99.1952</td><td class='upgini-text'>76.51, 41.5, 43.87</td><td class='upgini-text'>Training dataset,<a href='https://upgini.com/' target='_blank' rel='noopener noreferrer'>Upgini</a></td><td class='upgini-text'>AutoFE: features from Training dataset,<a href='https://upgini.com/#data_sources' target='_blank' rel='noopener noreferrer'>Markets data</a></td><td class='upgini-text'>Daily</td></tr><tr><td class='upgini-text'>f_autofe_roll_7d_std_c9b63bd7b1</td><td class='upgini-number'>0.1249</td><td class='upgini-number'>99.8623</td><td class='upgini-text'>0.0035, 0.0181, 0.0119</td><td class='upgini-text'>Training dataset,<a href='https://upgini.com/' target='_blank' rel='noopener noreferrer'>Upgini</a></td><td class='upgini-text'>AutoFE: features from Training dataset,<a href='https://upgini.com/#data_sources' target='_blank' rel='noopener noreferrer'>Markets data</a></td><td class='upgini-text'>Daily</td></tr><tr><td class='upgini-text'>f_autofe_lag_28d_aaadd46bbb</td><td class='upgini-number'>0.1174</td><td class='upgini-number'>97.1090</td><td class='upgini-text'>107.0, 129.0, 45.0</td><td class='upgini-text'>Training dataset</td><td class='upgini-text'>AutoFE: features from Training dataset</td><td class='upgini-text'>&nbsp;</td></tr><tr><td class='upgini-text'>f_autofe_lag_2d_c4918d0ea0</td><td class='upgini-number'>0.1104</td><td class='upgini-number'>99.7247</td><td class='upgini-text'>12.85, 11.94, 17.08</td><td class='upgini-text'>Training dataset,<a href='https://upgini.com/' target='_blank' rel='noopener noreferrer'>Upgini</a></td><td class='upgini-text'>AutoFE: features from Training dataset,<a href='https://upgini.com/#data_sources' target='_blank' rel='noopener noreferrer'>Markets data</a></td><td class='upgini-text'>Daily</td></tr><tr><td class='upgini-text'><a href='https://docs.upgini.com/public/markets/finance#f_financial_date_silver_7d_to_1y_0ccfe462' target='_blank' rel='noopener noreferrer'>f_financial_date_silver_7d_to_1y_0ccfe462</a></td><td class='upgini-number'>0.1004</td><td class='upgini-number'>100.0000</td><td class='upgini-text'>0.9445, 1.0953, 0.9544</td><td class='upgini-text'><a href='https://upgini.com/' target='_blank' rel='noopener noreferrer'>Upgini</a></td><td class='upgini-text'><a href='https://upgini.com/#data_sources' target='_blank' rel='noopener noreferrer'>Markets data</a></td><td class='upgini-text'>Daily</td></tr><tr><td class='upgini-text'><a href='https://docs.upgini.com/public/calendar/calendar#f_events_date_year_sin2_59955ffd' target='_blank' rel='noopener noreferrer'>f_events_date_year_sin2_59955ffd</a></td><td class='upgini-number'>0.1003</td><td class='upgini-number'>100.0000</td><td class='upgini-text'>-0.6153, 0.3847, -0.1628</td><td class='upgini-text'><a href='https://upgini.com/' target='_blank' rel='noopener noreferrer'>Upgini</a></td><td class='upgini-text'><a href='https://upgini.com/#data_sources' target='_blank' rel='noopener noreferrer'>Calendar data</a></td><td class='upgini-text'>Daily</td></tr><tr><td class='upgini-text'>f_autofe_lag_7d_17939c9a07</td><td class='upgini-number'>0.0992</td><td class='upgini-number'>99.1952</td><td class='upgini-text'>0.8293, 1.2134, 0.8184</td><td class='upgini-text'>Training dataset,<a href='https://upgini.com/' target='_blank' rel='noopener noreferrer'>Upgini</a></td><td class='upgini-text'>AutoFE: features from Training dataset,<a href='https://upgini.com/#data_sources' target='_blank' rel='noopener noreferrer'>Markets data</a></td><td class='upgini-text'>Daily</td></tr><tr><td class='upgini-text'><a href='https://docs.upgini.com/public/markets/finance_umap#f_financial_date_finance_umap_0_3c020a5e' target='_blank' rel='noopener noreferrer'>f_financial_date_finance_umap_0_3c020a5e</a></td><td class='upgini-number'>0.0982</td><td class='upgini-number'>100.0000</td><td class='upgini-text'>9.7171, 10.682, 9.6659</td><td class='upgini-text'><a href='https://upgini.com/' target='_blank' rel='noopener noreferrer'>Upgini</a></td><td class='upgini-text'><a href='https://upgini.com/#data_sources' target='_blank' rel='noopener noreferrer'>Markets data</a></td><td class='upgini-text'>Daily</td></tr><tr><td class='upgini-text'>f_autofe_lag_14d_0da85cf5ba</td><td class='upgini-number'>0.0941</td><td class='upgini-number'>98.4962</td><td class='upgini-text'>107.0, 129.0, 45.0</td><td class='upgini-text'>Training dataset</td><td class='upgini-text'>AutoFE: features from Training dataset</td><td class='upgini-text'>&nbsp;</td></tr><tr><td class='upgini-text'>f_autofe_roll_2d_norm_mean_d3cb397c66</td><td class='upgini-number'>0.0929</td><td class='upgini-number'>79.8475</td><td class='upgini-text'>1.5, 1.2, 20972.0</td><td class='upgini-text'>Training dataset,<a href='https://upgini.com/' target='_blank' rel='noopener noreferrer'>Upgini</a></td><td class='upgini-text'>AutoFE: features from Training dataset,<a href='https://upgini.com/#data_sources' target='_blank' rel='noopener noreferrer'>Markets data</a></td><td class='upgini-text'>Daily</td></tr><tr><td class='upgini-text'>f_autofe_roll_2d_norm_mean_85d150daec</td><td class='upgini-number'>0.0916</td><td class='upgini-number'>82.7385</td><td class='upgini-text'>-0.3636, 1.4453, -2.6882</td><td class='upgini-text'>Training dataset,<a href='https://upgini.com/' target='_blank' rel='noopener noreferrer'>Upgini</a></td><td class='upgini-text'>AutoFE: features from Training dataset,<a href='https://upgini.com/#data_sources' target='_blank' rel='noopener noreferrer'>Markets data</a></td><td class='upgini-text'>Daily</td></tr><tr><td class='upgini-text'>f_autofe_lag_7d_383f2b72f6</td><td class='upgini-number'>0.0891</td><td class='upgini-number'>99.1952</td><td class='upgini-text'>0.9445, 1.0953, 0.9544</td><td class='upgini-text'>Training dataset,<a href='https://upgini.com/' target='_blank' rel='noopener noreferrer'>Upgini</a></td><td class='upgini-text'>AutoFE: features from Training dataset,<a href='https://upgini.com/#data_sources' target='_blank' rel='noopener noreferrer'>Markets data</a></td><td class='upgini-text'>Daily</td></tr><tr><td class='upgini-text'>f_autofe_roll_7d_norm_mean_e25c9053c6</td><td class='upgini-number'>0.0813</td><td class='upgini-number'>100.0000</td><td class='upgini-text'>1.0584, 0.9653, 1.039</td><td class='upgini-text'>Training dataset,<a href='https://upgini.com/' target='_blank' rel='noopener noreferrer'>Upgini</a></td><td class='upgini-text'>AutoFE: features from Training dataset,<a href='https://upgini.com/#data_sources' target='_blank' rel='noopener noreferrer'>Markets data</a></td><td class='upgini-text'>Daily</td></tr><tr><td class='upgini-text'>f_autofe_lag_84d_f82bbe9151</td><td class='upgini-number'>0.0800</td><td class='upgini-number'>90.8186</td><td class='upgini-text'>107.0, 129.0, 45.0</td><td class='upgini-text'>Training dataset</td><td class='upgini-text'>AutoFE: features from Training dataset</td><td class='upgini-text'>&nbsp;</td></tr></tbody></table>\n",
              "        </div>\n",
              "        "
            ]
          },
          "metadata": {}
        },
        {
          "output_type": "display_data",
          "data": {
            "text/plain": [
              "<IPython.core.display.HTML object>"
            ],
            "text/html": [
              "<style>\n",
              "            .upgini-df thead th {\n",
              "                font-weight:bold;\n",
              "                text-align: center;\n",
              "                padding: 0.5em;\n",
              "                border-bottom: 2px solid black;\n",
              "            }\n",
              "\n",
              "            .upgini-df tbody td {\n",
              "                padding: 0.5em;\n",
              "                color: black;\n",
              "            }\n",
              "\n",
              "            .upgini-df tbody tr:nth-child(odd) {\n",
              "                background-color: #ffffff;\n",
              "            }\n",
              "\n",
              "            .upgini-df tbody tr:nth-child(even) {\n",
              "                background-color: #f2f2f2;\n",
              "            }\n",
              "\n",
              "            .upgini-text {\n",
              "                text-align: left;\n",
              "            }\n",
              "\n",
              "            .upgini-number {\n",
              "                text-align: center;\n",
              "            }\n",
              "        </style>\n",
              "        <h2>Relevant data sources</h2>\n",
              "        <div style=\"display:flex; flex-direction:column; align-items:flex-end; width: fit-content;\">\n",
              "            \n",
              "            <div style=\"text-align: right\">\n",
              "                <button onclick=navigator.clipboard.writeText(decodeURI('Provider%09Source%09All%20features%20SHAP%09Number%20of%20relevant%20features%0AUpgini%09Calendar%20data%095.8584%095%0ATraining%20dataset,%20Upgini%09AutoFE%3A%20features%20from%20Training%20dataset,%3Ca%20href%3D%27https%3A%2F%2Fupgini.com%2F%23data_sources%27%20target%3D%27_blank%27%20rel%3D%27noopener%20noreferrer%27%3EMarkets%20data%3C%2Fa%3E%093.1387%0918%0ATraining%20dataset%09AutoFE%3A%20features%20from%20Training%20dataset%092.783%0910%0ATraining%20dataset,%20Upgini%09AutoFE%3A%20features%20from%20Training%20dataset,%3Ca%20href%3D%27https%3A%2F%2Fupgini.com%2F%23data_sources%27%20target%3D%27_blank%27%20rel%3D%27noopener%20noreferrer%27%3ECalendar%20data%3C%2Fa%3E%092.5447%092%0AUpgini%09Markets%20data%091.8014999999999999%095%0AUpgini%09World%20economic%20indicators%090.8817999999999999%092%0A'))>📂 Copy</button>\n",
              "                <a href='mailto:<Share with...>?subject=Relevant external data sources from Upgini.com&body=Provider%09Source%09All%20features%20SHAP%09Number%20of%20relevant%20features%0AUpgini%09Calendar%20data%095.8584%095%0ATraining%20dataset,%20Upgini%09AutoFE%3A%20features%20from%20Training%20dataset,%3Ca%20href%3D%27https%3A%2F%2Fupgini.com%2F%23data_sources%27%20target%3D%27_blank%27%20rel%3D%27noopener%20noreferrer%27%3EMarkets%20data%3C%2Fa%3E%093.1387%0918%0ATraining%20dataset%09AutoFE%3A%20features%20from%20Training%20dataset%092.783%0910%0ATraining%20dataset,%20Upgini%09AutoFE%3A%20features%20from%20Training%20dataset,%3Ca%20href%3D%27https%3A%2F%2Fupgini.com%2F%23data_sources%27%20target%3D%27_blank%27%20rel%3D%27noopener%20noreferrer%27%3ECalendar%20data%3C%2Fa%3E%092.5447%092%0AUpgini%09Markets%20data%091.8014999999999999%095%0AUpgini%09World%20economic%20indicators%090.8817999999999999%092%0A'>\n",
              "                    <button>📨 Share</button>\n",
              "                </a>\n",
              "            </div>\n",
              "            <table class='upgini-df'><thead><th>Provider</th><th>Source</th><th>All features SHAP</th><th>Number of relevant features</th></thead><tbody><tr><td class='upgini-text'><a href='https://upgini.com/' target='_blank' rel='noopener noreferrer'>Upgini</a></td><td class='upgini-text'><a href='https://upgini.com/#data_sources' target='_blank' rel='noopener noreferrer'>Calendar data</a></td><td class='upgini-number'>5.8584</td><td class='upgini-number'>5</td></tr><tr><td class='upgini-text'>Training dataset,<a href='https://upgini.com/' target='_blank' rel='noopener noreferrer'>Upgini</a></td><td class='upgini-text'>AutoFE: features from Training dataset,<a href='https://upgini.com/#data_sources' target='_blank' rel='noopener noreferrer'>Markets data</a></td><td class='upgini-number'>3.1387</td><td class='upgini-number'>18</td></tr><tr><td class='upgini-text'>Training dataset</td><td class='upgini-text'>AutoFE: features from Training dataset</td><td class='upgini-number'>2.7830</td><td class='upgini-number'>10</td></tr><tr><td class='upgini-text'>Training dataset,<a href='https://upgini.com/' target='_blank' rel='noopener noreferrer'>Upgini</a></td><td class='upgini-text'>AutoFE: features from Training dataset,<a href='https://upgini.com/#data_sources' target='_blank' rel='noopener noreferrer'>Calendar data</a></td><td class='upgini-number'>2.5447</td><td class='upgini-number'>2</td></tr><tr><td class='upgini-text'><a href='https://upgini.com/' target='_blank' rel='noopener noreferrer'>Upgini</a></td><td class='upgini-text'><a href='https://upgini.com/#data_sources' target='_blank' rel='noopener noreferrer'>Markets data</a></td><td class='upgini-number'>1.8015</td><td class='upgini-number'>5</td></tr><tr><td class='upgini-text'><a href='https://upgini.com/' target='_blank' rel='noopener noreferrer'>Upgini</a></td><td class='upgini-text'><a href='https://upgini.com/#data_sources' target='_blank' rel='noopener noreferrer'>World economic indicators</a></td><td class='upgini-number'>0.8818</td><td class='upgini-number'>2</td></tr></tbody></table>\n",
              "        </div>\n",
              "        "
            ]
          },
          "metadata": {}
        },
        {
          "output_type": "display_data",
          "data": {
            "text/plain": [
              "<IPython.core.display.HTML object>"
            ],
            "text/html": [
              "<style>\n",
              "            .upgini-df thead th {\n",
              "                font-weight:bold;\n",
              "                text-align: center;\n",
              "                padding: 0.5em;\n",
              "                border-bottom: 2px solid black;\n",
              "            }\n",
              "\n",
              "            .upgini-df tbody td {\n",
              "                padding: 0.5em;\n",
              "                color: black;\n",
              "            }\n",
              "\n",
              "            .upgini-df tbody tr:nth-child(odd) {\n",
              "                background-color: #ffffff;\n",
              "            }\n",
              "\n",
              "            .upgini-df tbody tr:nth-child(even) {\n",
              "                background-color: #f2f2f2;\n",
              "            }\n",
              "\n",
              "            .upgini-text {\n",
              "                text-align: left;\n",
              "            }\n",
              "\n",
              "            .upgini-number {\n",
              "                text-align: center;\n",
              "            }\n",
              "        </style>\n",
              "        <h2>*Description of AutoFE feature names</h2>\n",
              "        <div style=\"display:flex; flex-direction:column; align-items:flex-end; width: fit-content;\">\n",
              "            \n",
              "            <div style=\"text-align: right\">\n",
              "                <button onclick=navigator.clipboard.writeText(decodeURI('Sources%09Feature%20name%09Feature%201%09Function%0ATraining%20dataset,%3Ca%20href%3D%27https%3A%2F%2Fupgini.com%2F%23data_sources%27%20target%3D%27_blank%27%20rel%3D%27noopener%20noreferrer%27%3ECalendar%20data%3C%2Fa%3E%09f_autofe_roll_3d_min_1a2ad6d8bb%09f_events_date_year_cos1_9014a856%09roll_3d_min%0ATraining%20dataset,%3Ca%20href%3D%27https%3A%2F%2Fupgini.com%2F%23data_sources%27%20target%3D%27_blank%27%20rel%3D%27noopener%20noreferrer%27%3ECalendar%20data%3C%2Fa%3E%09f_autofe_roll_3d_median_8e12f1e1e9%09f_events_date_year_cos1_9014a856%09roll_3d_median%0ATraining%20dataset%09f_autofe_roll_3d_q75_927f52faea%09target%09roll_3d_q75%0ATraining%20dataset%09f_autofe_roll_7d_median_e8edff6d9a%09target%09roll_7d_median%0ATraining%20dataset%09f_autofe_roll_3d_max_946bf6086b%09target%09roll_3d_max%0ATraining%20dataset,%3Ca%20href%3D%27https%3A%2F%2Fupgini.com%2F%23data_sources%27%20target%3D%27_blank%27%20rel%3D%27noopener%20noreferrer%27%3EMarkets%20data%3C%2Fa%3E%09f_autofe_roll_2d_norm_mean_f28c29d7cf%09f_financial_date_vix_daydiff_02dc2726%09roll_2d_norm_mean%0ATraining%20dataset%09f_autofe_roll_7d_max_f49b75b311%09target%09roll_7d_max%0ATraining%20dataset,%3Ca%20href%3D%27https%3A%2F%2Fupgini.com%2F%23data_sources%27%20target%3D%27_blank%27%20rel%3D%27noopener%20noreferrer%27%3EMarkets%20data%3C%2Fa%3E%09f_autofe_roll_2d_std_eb944d44c9%09f_financial_date_vix_daydiff_02dc2726%09roll_2d_std%0ATraining%20dataset,%3Ca%20href%3D%27https%3A%2F%2Fupgini.com%2F%23data_sources%27%20target%3D%27_blank%27%20rel%3D%27noopener%20noreferrer%27%3EMarkets%20data%3C%2Fa%3E%09f_autofe_lag_2d_82f0cadd32%09f_financial_date_silver_7d_to_1y_0ccfe462%09lag_2d%0ATraining%20dataset%09f_autofe_delta_7d_9b21a1d315%09target%09delta_7d%0ATraining%20dataset,%3Ca%20href%3D%27https%3A%2F%2Fupgini.com%2F%23data_sources%27%20target%3D%27_blank%27%20rel%3D%27noopener%20noreferrer%27%3EMarkets%20data%3C%2Fa%3E%09f_autofe_roll_2d_norm_mean_b7552e632c%09f_financial_date_vix_gap_b64bd2b9%09roll_2d_norm_mean%0ATraining%20dataset,%3Ca%20href%3D%27https%3A%2F%2Fupgini.com%2F%23data_sources%27%20target%3D%27_blank%27%20rel%3D%27noopener%20noreferrer%27%3EMarkets%20data%3C%2Fa%3E%09f_autofe_lag_7d_a158285546%09f_financial_date_usd_7d_to_7d_1y_shift_35cb53e9%09lag_7d%0ATraining%20dataset,%3Ca%20href%3D%27https%3A%2F%2Fupgini.com%2F%23data_sources%27%20target%3D%27_blank%27%20rel%3D%27noopener%20noreferrer%27%3EMarkets%20data%3C%2Fa%3E%09f_autofe_roll_2d_norm_mean_88a20b471e%09f_financial_date_nasdaq_gap_83732bb1%09roll_2d_norm_mean%0ATraining%20dataset,%3Ca%20href%3D%27https%3A%2F%2Fupgini.com%2F%23data_sources%27%20target%3D%27_blank%27%20rel%3D%27noopener%20noreferrer%27%3EMarkets%20data%3C%2Fa%3E%09f_autofe_lag_3d_497740d13d%09f_financial_date_usd_gap_615a0ec0%09lag_3d%0ATraining%20dataset,%3Ca%20href%3D%27https%3A%2F%2Fupgini.com%2F%23data_sources%27%20target%3D%27_blank%27%20rel%3D%27noopener%20noreferrer%27%3EMarkets%20data%3C%2Fa%3E%09f_autofe_roll_2d_norm_mean_bc7947738c%09f_financial_date_natural_gas_gap_a2b03e85%09roll_2d_norm_mean%0ATraining%20dataset%09f_autofe_lag_7d_4a1d9c9dff%09target%09lag_7d%0ATraining%20dataset,%3Ca%20href%3D%27https%3A%2F%2Fupgini.com%2F%23data_sources%27%20target%3D%27_blank%27%20rel%3D%27noopener%20noreferrer%27%3EMarkets%20data%3C%2Fa%3E%09f_autofe_roll_2d_std_187b1d1f8a%09f_financial_date_usd_eur_1d_to_7d_d8b89b5d%09roll_2d_std%0ATraining%20dataset,%3Ca%20href%3D%27https%3A%2F%2Fupgini.com%2F%23data_sources%27%20target%3D%27_blank%27%20rel%3D%27noopener%20noreferrer%27%3EMarkets%20data%3C%2Fa%3E%09f_autofe_lag_7d_5eb2763364%09f_financial_date_vix_7d_to_1y_634c77eb%09lag_7d%0ATraining%20dataset%09f_autofe_roll_3d_median_97804b26e6%09target%09roll_3d_median%0ATraining%20dataset,%3Ca%20href%3D%27https%3A%2F%2Fupgini.com%2F%23data_sources%27%20target%3D%27_blank%27%20rel%3D%27noopener%20noreferrer%27%3EMarkets%20data%3C%2Fa%3E%09f_autofe_lag_7d_8b4b290346%09f_financial_date_crude_oil_1f195998%09lag_7d%0ATraining%20dataset,%3Ca%20href%3D%27https%3A%2F%2Fupgini.com%2F%23data_sources%27%20target%3D%27_blank%27%20rel%3D%27noopener%20noreferrer%27%3EMarkets%20data%3C%2Fa%3E%09f_autofe_roll_7d_std_c9b63bd7b1%09f_financial_date_silver_1d_to_7d_f35d6e93%09roll_7d_std%0ATraining%20dataset%09f_autofe_lag_28d_aaadd46bbb%09target%09lag_28d%0ATraining%20dataset,%3Ca%20href%3D%27https%3A%2F%2Fupgini.com%2F%23data_sources%27%20target%3D%27_blank%27%20rel%3D%27noopener%20noreferrer%27%3EMarkets%20data%3C%2Fa%3E%09f_autofe_lag_2d_c4918d0ea0%09f_financial_date_vix_6c8e6194%09lag_2d%0ATraining%20dataset,%3Ca%20href%3D%27https%3A%2F%2Fupgini.com%2F%23data_sources%27%20target%3D%27_blank%27%20rel%3D%27noopener%20noreferrer%27%3EMarkets%20data%3C%2Fa%3E%09f_autofe_lag_7d_17939c9a07%09f_financial_date_silver_7d_to_7d_1y_shift_55fa8001%09lag_7d%0ATraining%20dataset%09f_autofe_lag_14d_0da85cf5ba%09target%09lag_14d%0ATraining%20dataset,%3Ca%20href%3D%27https%3A%2F%2Fupgini.com%2F%23data_sources%27%20target%3D%27_blank%27%20rel%3D%27noopener%20noreferrer%27%3EMarkets%20data%3C%2Fa%3E%09f_autofe_roll_2d_norm_mean_d3cb397c66%09f_financial_date_usd_gap_615a0ec0%09roll_2d_norm_mean%0ATraining%20dataset,%3Ca%20href%3D%27https%3A%2F%2Fupgini.com%2F%23data_sources%27%20target%3D%27_blank%27%20rel%3D%27noopener%20noreferrer%27%3EMarkets%20data%3C%2Fa%3E%09f_autofe_roll_2d_norm_mean_85d150daec%09f_financial_date_gold_daydiff_6c8f15fb%09roll_2d_norm_mean%0ATraining%20dataset,%3Ca%20href%3D%27https%3A%2F%2Fupgini.com%2F%23data_sources%27%20target%3D%27_blank%27%20rel%3D%27noopener%20noreferrer%27%3EMarkets%20data%3C%2Fa%3E%09f_autofe_lag_7d_383f2b72f6%09f_financial_date_silver_7d_to_1y_0ccfe462%09lag_7d%0ATraining%20dataset,%3Ca%20href%3D%27https%3A%2F%2Fupgini.com%2F%23data_sources%27%20target%3D%27_blank%27%20rel%3D%27noopener%20noreferrer%27%3EMarkets%20data%3C%2Fa%3E%09f_autofe_roll_7d_norm_mean_e25c9053c6%09f_financial_date_crude_oil_7d_to_7d_1y_shift_718136ef%09roll_7d_norm_mean%0ATraining%20dataset%09f_autofe_lag_84d_f82bbe9151%09target%09lag_84d%0A'))>📂 Copy</button>\n",
              "                <a href='mailto:<Share with...>?subject=Relevant external data sources from Upgini.com&body=Sources%09Feature%20name%09Feature%201%09Function%0ATraining%20dataset,%3Ca%20href%3D%27https%3A%2F%2Fupgini.com%2F%23data_sources%27%20target%3D%27_blank%27%20rel%3D%27noopener%20noreferrer%27%3ECalendar%20data%3C%2Fa%3E%09f_autofe_roll_3d_min_1a2ad6d8bb%09f_events_date_year_cos1_9014a856%09roll_3d_min%0ATraining%20dataset,%3Ca%20href%3D%27https%3A%2F%2Fupgini.com%2F%23data_sources%27%20target%3D%27_blank%27%20rel%3D%27noopener%20noreferrer%27%3ECalendar%20data%3C%2Fa%3E%09f_autofe_roll_3d_median_8e12f1e1e9%09f_events_date_year_cos1_9014a856%09roll_3d_median%0ATraining%20dataset%09f_autofe_roll_3d_q75_927f52faea%09target%09roll_3d_q75%0ATraining%20dataset%09f_autofe_roll_7d_median_e8edff6d9a%09target%09roll_7d_median%0ATraining%20dataset%09f_autofe_roll_3d_max_946bf6086b%09target%09roll_3d_max%0ATraining%20dataset,%3Ca%20href%3D%27https%3A%2F%2Fupgini.com%2F%23data_sources%27%20target%3D%27_blank%27%20rel%3D%27noopener%20noreferrer%27%3EMarkets%20data%3C%2Fa%3E%09f_autofe_roll_2d_norm_mean_f28c29d7cf%09f_financial_date_vix_daydiff_02dc2726%09roll_2d_norm_mean%0ATraining%20dataset%09f_autofe_roll_7d_max_f49b75b311%09target%09roll_7d_max%0ATraining%20dataset,%3Ca%20href%3D%27https%3A%2F%2Fupgini.com%2F%23data_sources%27%20target%3D%27_blank%27%20rel%3D%27noopener%20noreferrer%27%3EMarkets%20data%3C%2Fa%3E%09f_autofe_roll_2d_std_eb944d44c9%09f_financial_date_vix_daydiff_02dc2726%09roll_2d_std%0ATraining%20dataset,%3Ca%20href%3D%27https%3A%2F%2Fupgini.com%2F%23data_sources%27%20target%3D%27_blank%27%20rel%3D%27noopener%20noreferrer%27%3EMarkets%20data%3C%2Fa%3E%09f_autofe_lag_2d_82f0cadd32%09f_financial_date_silver_7d_to_1y_0ccfe462%09lag_2d%0ATraining%20dataset%09f_autofe_delta_7d_9b21a1d315%09target%09delta_7d%0ATraining%20dataset,%3Ca%20href%3D%27https%3A%2F%2Fupgini.com%2F%23data_sources%27%20target%3D%27_blank%27%20rel%3D%27noopener%20noreferrer%27%3EMarkets%20data%3C%2Fa%3E%09f_autofe_roll_2d_norm_mean_b7552e632c%09f_financial_date_vix_gap_b64bd2b9%09roll_2d_norm_mean%0ATraining%20dataset,%3Ca%20href%3D%27https%3A%2F%2Fupgini.com%2F%23data_sources%27%20target%3D%27_blank%27%20rel%3D%27noopener%20noreferrer%27%3EMarkets%20data%3C%2Fa%3E%09f_autofe_lag_7d_a158285546%09f_financial_date_usd_7d_to_7d_1y_shift_35cb53e9%09lag_7d%0ATraining%20dataset,%3Ca%20href%3D%27https%3A%2F%2Fupgini.com%2F%23data_sources%27%20target%3D%27_blank%27%20rel%3D%27noopener%20noreferrer%27%3EMarkets%20data%3C%2Fa%3E%09f_autofe_roll_2d_norm_mean_88a20b471e%09f_financial_date_nasdaq_gap_83732bb1%09roll_2d_norm_mean%0ATraining%20dataset,%3Ca%20href%3D%27https%3A%2F%2Fupgini.com%2F%23data_sources%27%20target%3D%27_blank%27%20rel%3D%27noopener%20noreferrer%27%3EMarkets%20data%3C%2Fa%3E%09f_autofe_lag_3d_497740d13d%09f_financial_date_usd_gap_615a0ec0%09lag_3d%0ATraining%20dataset,%3Ca%20href%3D%27https%3A%2F%2Fupgini.com%2F%23data_sources%27%20target%3D%27_blank%27%20rel%3D%27noopener%20noreferrer%27%3EMarkets%20data%3C%2Fa%3E%09f_autofe_roll_2d_norm_mean_bc7947738c%09f_financial_date_natural_gas_gap_a2b03e85%09roll_2d_norm_mean%0ATraining%20dataset%09f_autofe_lag_7d_4a1d9c9dff%09target%09lag_7d%0ATraining%20dataset,%3Ca%20href%3D%27https%3A%2F%2Fupgini.com%2F%23data_sources%27%20target%3D%27_blank%27%20rel%3D%27noopener%20noreferrer%27%3EMarkets%20data%3C%2Fa%3E%09f_autofe_roll_2d_std_187b1d1f8a%09f_financial_date_usd_eur_1d_to_7d_d8b89b5d%09roll_2d_std%0ATraining%20dataset,%3Ca%20href%3D%27https%3A%2F%2Fupgini.com%2F%23data_sources%27%20target%3D%27_blank%27%20rel%3D%27noopener%20noreferrer%27%3EMarkets%20data%3C%2Fa%3E%09f_autofe_lag_7d_5eb2763364%09f_financial_date_vix_7d_to_1y_634c77eb%09lag_7d%0ATraining%20dataset%09f_autofe_roll_3d_median_97804b26e6%09target%09roll_3d_median%0ATraining%20dataset,%3Ca%20href%3D%27https%3A%2F%2Fupgini.com%2F%23data_sources%27%20target%3D%27_blank%27%20rel%3D%27noopener%20noreferrer%27%3EMarkets%20data%3C%2Fa%3E%09f_autofe_lag_7d_8b4b290346%09f_financial_date_crude_oil_1f195998%09lag_7d%0ATraining%20dataset,%3Ca%20href%3D%27https%3A%2F%2Fupgini.com%2F%23data_sources%27%20target%3D%27_blank%27%20rel%3D%27noopener%20noreferrer%27%3EMarkets%20data%3C%2Fa%3E%09f_autofe_roll_7d_std_c9b63bd7b1%09f_financial_date_silver_1d_to_7d_f35d6e93%09roll_7d_std%0ATraining%20dataset%09f_autofe_lag_28d_aaadd46bbb%09target%09lag_28d%0ATraining%20dataset,%3Ca%20href%3D%27https%3A%2F%2Fupgini.com%2F%23data_sources%27%20target%3D%27_blank%27%20rel%3D%27noopener%20noreferrer%27%3EMarkets%20data%3C%2Fa%3E%09f_autofe_lag_2d_c4918d0ea0%09f_financial_date_vix_6c8e6194%09lag_2d%0ATraining%20dataset,%3Ca%20href%3D%27https%3A%2F%2Fupgini.com%2F%23data_sources%27%20target%3D%27_blank%27%20rel%3D%27noopener%20noreferrer%27%3EMarkets%20data%3C%2Fa%3E%09f_autofe_lag_7d_17939c9a07%09f_financial_date_silver_7d_to_7d_1y_shift_55fa8001%09lag_7d%0ATraining%20dataset%09f_autofe_lag_14d_0da85cf5ba%09target%09lag_14d%0ATraining%20dataset,%3Ca%20href%3D%27https%3A%2F%2Fupgini.com%2F%23data_sources%27%20target%3D%27_blank%27%20rel%3D%27noopener%20noreferrer%27%3EMarkets%20data%3C%2Fa%3E%09f_autofe_roll_2d_norm_mean_d3cb397c66%09f_financial_date_usd_gap_615a0ec0%09roll_2d_norm_mean%0ATraining%20dataset,%3Ca%20href%3D%27https%3A%2F%2Fupgini.com%2F%23data_sources%27%20target%3D%27_blank%27%20rel%3D%27noopener%20noreferrer%27%3EMarkets%20data%3C%2Fa%3E%09f_autofe_roll_2d_norm_mean_85d150daec%09f_financial_date_gold_daydiff_6c8f15fb%09roll_2d_norm_mean%0ATraining%20dataset,%3Ca%20href%3D%27https%3A%2F%2Fupgini.com%2F%23data_sources%27%20target%3D%27_blank%27%20rel%3D%27noopener%20noreferrer%27%3EMarkets%20data%3C%2Fa%3E%09f_autofe_lag_7d_383f2b72f6%09f_financial_date_silver_7d_to_1y_0ccfe462%09lag_7d%0ATraining%20dataset,%3Ca%20href%3D%27https%3A%2F%2Fupgini.com%2F%23data_sources%27%20target%3D%27_blank%27%20rel%3D%27noopener%20noreferrer%27%3EMarkets%20data%3C%2Fa%3E%09f_autofe_roll_7d_norm_mean_e25c9053c6%09f_financial_date_crude_oil_7d_to_7d_1y_shift_718136ef%09roll_7d_norm_mean%0ATraining%20dataset%09f_autofe_lag_84d_f82bbe9151%09target%09lag_84d%0A'>\n",
              "                    <button>📨 Share</button>\n",
              "                </a>\n",
              "            </div>\n",
              "            <table class='upgini-df'><thead><th>Sources</th><th>Feature name</th><th>Feature 1</th><th>Function</th></thead><tbody><tr><td class='upgini-text'>Training dataset,<a href='https://upgini.com/#data_sources' target='_blank' rel='noopener noreferrer'>Calendar data</a></td><td class='upgini-text'>f_autofe_roll_3d_min_1a2ad6d8bb</td><td class='upgini-text'>f_events_date_year_cos1_9014a856</td><td class='upgini-text'>roll_3d_min</td></tr><tr><td class='upgini-text'>Training dataset,<a href='https://upgini.com/#data_sources' target='_blank' rel='noopener noreferrer'>Calendar data</a></td><td class='upgini-text'>f_autofe_roll_3d_median_8e12f1e1e9</td><td class='upgini-text'>f_events_date_year_cos1_9014a856</td><td class='upgini-text'>roll_3d_median</td></tr><tr><td class='upgini-text'>Training dataset</td><td class='upgini-text'>f_autofe_roll_3d_q75_927f52faea</td><td class='upgini-text'>target</td><td class='upgini-text'>roll_3d_q75</td></tr><tr><td class='upgini-text'>Training dataset</td><td class='upgini-text'>f_autofe_roll_7d_median_e8edff6d9a</td><td class='upgini-text'>target</td><td class='upgini-text'>roll_7d_median</td></tr><tr><td class='upgini-text'>Training dataset</td><td class='upgini-text'>f_autofe_roll_3d_max_946bf6086b</td><td class='upgini-text'>target</td><td class='upgini-text'>roll_3d_max</td></tr><tr><td class='upgini-text'>Training dataset,<a href='https://upgini.com/#data_sources' target='_blank' rel='noopener noreferrer'>Markets data</a></td><td class='upgini-text'>f_autofe_roll_2d_norm_mean_f28c29d7cf</td><td class='upgini-text'>f_financial_date_vix_daydiff_02dc2726</td><td class='upgini-text'>roll_2d_norm_mean</td></tr><tr><td class='upgini-text'>Training dataset</td><td class='upgini-text'>f_autofe_roll_7d_max_f49b75b311</td><td class='upgini-text'>target</td><td class='upgini-text'>roll_7d_max</td></tr><tr><td class='upgini-text'>Training dataset,<a href='https://upgini.com/#data_sources' target='_blank' rel='noopener noreferrer'>Markets data</a></td><td class='upgini-text'>f_autofe_roll_2d_std_eb944d44c9</td><td class='upgini-text'>f_financial_date_vix_daydiff_02dc2726</td><td class='upgini-text'>roll_2d_std</td></tr><tr><td class='upgini-text'>Training dataset,<a href='https://upgini.com/#data_sources' target='_blank' rel='noopener noreferrer'>Markets data</a></td><td class='upgini-text'>f_autofe_lag_2d_82f0cadd32</td><td class='upgini-text'>f_financial_date_silver_7d_to_1y_0ccfe462</td><td class='upgini-text'>lag_2d</td></tr><tr><td class='upgini-text'>Training dataset</td><td class='upgini-text'>f_autofe_delta_7d_9b21a1d315</td><td class='upgini-text'>target</td><td class='upgini-text'>delta_7d</td></tr><tr><td class='upgini-text'>Training dataset,<a href='https://upgini.com/#data_sources' target='_blank' rel='noopener noreferrer'>Markets data</a></td><td class='upgini-text'>f_autofe_roll_2d_norm_mean_b7552e632c</td><td class='upgini-text'>f_financial_date_vix_gap_b64bd2b9</td><td class='upgini-text'>roll_2d_norm_mean</td></tr><tr><td class='upgini-text'>Training dataset,<a href='https://upgini.com/#data_sources' target='_blank' rel='noopener noreferrer'>Markets data</a></td><td class='upgini-text'>f_autofe_lag_7d_a158285546</td><td class='upgini-text'>f_financial_date_usd_7d_to_7d_1y_shift_35cb53e9</td><td class='upgini-text'>lag_7d</td></tr><tr><td class='upgini-text'>Training dataset,<a href='https://upgini.com/#data_sources' target='_blank' rel='noopener noreferrer'>Markets data</a></td><td class='upgini-text'>f_autofe_roll_2d_norm_mean_88a20b471e</td><td class='upgini-text'>f_financial_date_nasdaq_gap_83732bb1</td><td class='upgini-text'>roll_2d_norm_mean</td></tr><tr><td class='upgini-text'>Training dataset,<a href='https://upgini.com/#data_sources' target='_blank' rel='noopener noreferrer'>Markets data</a></td><td class='upgini-text'>f_autofe_lag_3d_497740d13d</td><td class='upgini-text'>f_financial_date_usd_gap_615a0ec0</td><td class='upgini-text'>lag_3d</td></tr><tr><td class='upgini-text'>Training dataset,<a href='https://upgini.com/#data_sources' target='_blank' rel='noopener noreferrer'>Markets data</a></td><td class='upgini-text'>f_autofe_roll_2d_norm_mean_bc7947738c</td><td class='upgini-text'>f_financial_date_natural_gas_gap_a2b03e85</td><td class='upgini-text'>roll_2d_norm_mean</td></tr><tr><td class='upgini-text'>Training dataset</td><td class='upgini-text'>f_autofe_lag_7d_4a1d9c9dff</td><td class='upgini-text'>target</td><td class='upgini-text'>lag_7d</td></tr><tr><td class='upgini-text'>Training dataset,<a href='https://upgini.com/#data_sources' target='_blank' rel='noopener noreferrer'>Markets data</a></td><td class='upgini-text'>f_autofe_roll_2d_std_187b1d1f8a</td><td class='upgini-text'>f_financial_date_usd_eur_1d_to_7d_d8b89b5d</td><td class='upgini-text'>roll_2d_std</td></tr><tr><td class='upgini-text'>Training dataset,<a href='https://upgini.com/#data_sources' target='_blank' rel='noopener noreferrer'>Markets data</a></td><td class='upgini-text'>f_autofe_lag_7d_5eb2763364</td><td class='upgini-text'>f_financial_date_vix_7d_to_1y_634c77eb</td><td class='upgini-text'>lag_7d</td></tr><tr><td class='upgini-text'>Training dataset</td><td class='upgini-text'>f_autofe_roll_3d_median_97804b26e6</td><td class='upgini-text'>target</td><td class='upgini-text'>roll_3d_median</td></tr><tr><td class='upgini-text'>Training dataset,<a href='https://upgini.com/#data_sources' target='_blank' rel='noopener noreferrer'>Markets data</a></td><td class='upgini-text'>f_autofe_lag_7d_8b4b290346</td><td class='upgini-text'>f_financial_date_crude_oil_1f195998</td><td class='upgini-text'>lag_7d</td></tr><tr><td class='upgini-text'>Training dataset,<a href='https://upgini.com/#data_sources' target='_blank' rel='noopener noreferrer'>Markets data</a></td><td class='upgini-text'>f_autofe_roll_7d_std_c9b63bd7b1</td><td class='upgini-text'>f_financial_date_silver_1d_to_7d_f35d6e93</td><td class='upgini-text'>roll_7d_std</td></tr><tr><td class='upgini-text'>Training dataset</td><td class='upgini-text'>f_autofe_lag_28d_aaadd46bbb</td><td class='upgini-text'>target</td><td class='upgini-text'>lag_28d</td></tr><tr><td class='upgini-text'>Training dataset,<a href='https://upgini.com/#data_sources' target='_blank' rel='noopener noreferrer'>Markets data</a></td><td class='upgini-text'>f_autofe_lag_2d_c4918d0ea0</td><td class='upgini-text'>f_financial_date_vix_6c8e6194</td><td class='upgini-text'>lag_2d</td></tr><tr><td class='upgini-text'>Training dataset,<a href='https://upgini.com/#data_sources' target='_blank' rel='noopener noreferrer'>Markets data</a></td><td class='upgini-text'>f_autofe_lag_7d_17939c9a07</td><td class='upgini-text'>f_financial_date_silver_7d_to_7d_1y_shift_55fa8001</td><td class='upgini-text'>lag_7d</td></tr><tr><td class='upgini-text'>Training dataset</td><td class='upgini-text'>f_autofe_lag_14d_0da85cf5ba</td><td class='upgini-text'>target</td><td class='upgini-text'>lag_14d</td></tr><tr><td class='upgini-text'>Training dataset,<a href='https://upgini.com/#data_sources' target='_blank' rel='noopener noreferrer'>Markets data</a></td><td class='upgini-text'>f_autofe_roll_2d_norm_mean_d3cb397c66</td><td class='upgini-text'>f_financial_date_usd_gap_615a0ec0</td><td class='upgini-text'>roll_2d_norm_mean</td></tr><tr><td class='upgini-text'>Training dataset,<a href='https://upgini.com/#data_sources' target='_blank' rel='noopener noreferrer'>Markets data</a></td><td class='upgini-text'>f_autofe_roll_2d_norm_mean_85d150daec</td><td class='upgini-text'>f_financial_date_gold_daydiff_6c8f15fb</td><td class='upgini-text'>roll_2d_norm_mean</td></tr><tr><td class='upgini-text'>Training dataset,<a href='https://upgini.com/#data_sources' target='_blank' rel='noopener noreferrer'>Markets data</a></td><td class='upgini-text'>f_autofe_lag_7d_383f2b72f6</td><td class='upgini-text'>f_financial_date_silver_7d_to_1y_0ccfe462</td><td class='upgini-text'>lag_7d</td></tr><tr><td class='upgini-text'>Training dataset,<a href='https://upgini.com/#data_sources' target='_blank' rel='noopener noreferrer'>Markets data</a></td><td class='upgini-text'>f_autofe_roll_7d_norm_mean_e25c9053c6</td><td class='upgini-text'>f_financial_date_crude_oil_7d_to_7d_1y_shift_718136ef</td><td class='upgini-text'>roll_7d_norm_mean</td></tr><tr><td class='upgini-text'>Training dataset</td><td class='upgini-text'>f_autofe_lag_84d_f82bbe9151</td><td class='upgini-text'>target</td><td class='upgini-text'>lag_84d</td></tr></tbody></table>\n",
              "        </div>\n",
              "        "
            ]
          },
          "metadata": {}
        },
        {
          "output_type": "stream",
          "name": "stdout",
          "text": [
            "We detected 48 outliers in your sample.\n",
            "Examples of outliers with maximum value of target:\n",
            "33    205\n",
            "17    196\n",
            "12    187\n",
            "Name: target, dtype: int64\n",
            "Outliers will be excluded during the metrics calculation.\n",
            "Calculating accuracy uplift after enrichment...\n",
            "y distributions from the training sample and eval_set differ according to the Kolmogorov-Smirnov test,\n",
            "which makes metrics between the train and eval_set incomparable.\n"
          ]
        },
        {
          "output_type": "display_data",
          "data": {
            "text/plain": [
              "<IPython.core.display.HTML object>"
            ],
            "text/html": [
              "<style>\n",
              "            .upgini-df thead th {\n",
              "                font-weight:bold;\n",
              "                text-align: center;\n",
              "                padding: 0.5em;\n",
              "                border-bottom: 2px solid black;\n",
              "            }\n",
              "\n",
              "            .upgini-df tbody td {\n",
              "                padding: 0.5em;\n",
              "                color: black;\n",
              "            }\n",
              "\n",
              "            .upgini-df tbody tr:nth-child(odd) {\n",
              "                background-color: #ffffff;\n",
              "            }\n",
              "\n",
              "            .upgini-df tbody tr:nth-child(even) {\n",
              "                background-color: #f2f2f2;\n",
              "            }\n",
              "\n",
              "            .upgini-text {\n",
              "                text-align: left;\n",
              "            }\n",
              "\n",
              "            .upgini-number {\n",
              "                text-align: center;\n",
              "            }\n",
              "        </style>\n",
              "        <h2>Accuracy after enrichment</h2>\n",
              "        <div style=\"display:flex; flex-direction:column; align-items:flex-end; width: fit-content;\">\n",
              "            \n",
              "            <div style=\"text-align: right\">\n",
              "                <button onclick=navigator.clipboard.writeText(decodeURI('Dataset%20type%09Rows%09Mean%20target%09Baseline%20MAPE%09Enriched%20MAPE%09Uplift,%20abs%09Uplift,%20%25%0ATrain%099418%0953.3352%090.324%20%C2%B1%200.109%090.307%20%C2%B1%200.099%090.018%095.5%25%0AEval%201%093764%0958.5994%090.278%20%C2%B1%200.009%090.280%20%C2%B1%200.035%09-0.002%09-0.7%25%0A'))>📂 Copy</button>\n",
              "                <a href='mailto:<Share with...>?subject=Relevant external data sources from Upgini.com&body=Dataset%20type%09Rows%09Mean%20target%09Baseline%20MAPE%09Enriched%20MAPE%09Uplift,%20abs%09Uplift,%20%25%0ATrain%099418%0953.3352%090.324%20%C2%B1%200.109%090.307%20%C2%B1%200.099%090.018%095.5%25%0AEval%201%093764%0958.5994%090.278%20%C2%B1%200.009%090.280%20%C2%B1%200.035%09-0.002%09-0.7%25%0A'>\n",
              "                    <button>📨 Share</button>\n",
              "                </a>\n",
              "            </div>\n",
              "            <table class='upgini-df'><thead><th>Dataset type</th><th>Rows</th><th>Mean target</th><th>Baseline MAPE</th><th>Enriched MAPE</th><th>Uplift, abs</th><th>Uplift, %</th></thead><tbody><tr><td class='upgini-text'>Train</td><td class='upgini-number'>9418</td><td class='upgini-number'>53.3352</td><td class='upgini-text'>0.324 ± 0.109</td><td class='upgini-text'>0.307 ± 0.099</td><td class='upgini-number'>0.0180</td><td class='upgini-text'>5.5%</td></tr><tr><td class='upgini-text'>Eval 1</td><td class='upgini-number'>3764</td><td class='upgini-number'>58.5994</td><td class='upgini-text'>0.278 ± 0.009</td><td class='upgini-text'>0.280 ± 0.035</td><td class='upgini-number'>-0.0020</td><td class='upgini-text'>-0.7%</td></tr></tbody></table>\n",
              "        </div>\n",
              "        "
            ]
          },
          "metadata": {}
        },
        {
          "output_type": "display_data",
          "data": {
            "text/plain": [
              "<IPython.core.display.HTML object>"
            ],
            "text/html": [
              "<a download=\"upgini-report-0152be97-f8d8-48d1-9373-1428d3f1ce2e.pdf\" href=\"data:application/pdf;base64,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\" target=\"_blank\">\n",
              "        <button>📊 Download PDF report</button></a>"
            ]
          },
          "metadata": {}
        }
      ]
    },
    {
      "cell_type": "code",
      "source": [
        "from catboost import CatBoostRegressor\n",
        "from catboost.utils import eval_metric\n",
        "\n",
        "model = CatBoostRegressor(verbose=False, allow_writing_files=False, random_state=0)\n",
        "\n",
        "enricher.calculate_metrics(\n",
        "    train_features,train_target,\n",
        "    eval_set=[(test_features,test_target)],\n",
        "    estimator = model,\n",
        "    scoring = \"mean_absolute_percentage_error\"\n",
        ")"
      ],
      "metadata": {
        "colab": {
          "base_uri": "https://localhost:8080/",
          "height": 238
        },
        "id": "ZZmlfSc-H11I",
        "outputId": "62bbb2b2-05f1-4260-85ee-23a4f093581c"
      },
      "execution_count": null,
      "outputs": [
        {
          "output_type": "stream",
          "name": "stdout",
          "text": [
            "Calculating accuracy uplift after enrichment...\n",
            "-\ry distributions from the training sample and eval_set differ according to the Kolmogorov-Smirnov test,\n",
            "which makes metrics between the train and eval_set incomparable.\n"
          ]
        },
        {
          "output_type": "execute_result",
          "data": {
            "text/plain": [
              "  Dataset type  Rows  Mean target  Baseline MAPE  Enriched MAPE  Uplift, abs  \\\n",
              "0        Train  9418      53.3352  0.288 ± 0.096  0.225 ± 0.085        0.063   \n",
              "1       Eval 1  3764      58.5994  0.247 ± 0.008  0.204 ± 0.034        0.043   \n",
              "\n",
              "  Uplift, %  \n",
              "0     21.8%  \n",
              "1     17.3%  "
            ],
            "text/html": [
              "\n",
              "  <div id=\"df-688ab3a0-3fb4-498c-bf8b-3624a4681251\" class=\"colab-df-container\">\n",
              "    <div>\n",
              "<style scoped>\n",
              "    .dataframe tbody tr th:only-of-type {\n",
              "        vertical-align: middle;\n",
              "    }\n",
              "\n",
              "    .dataframe tbody tr th {\n",
              "        vertical-align: top;\n",
              "    }\n",
              "\n",
              "    .dataframe thead th {\n",
              "        text-align: right;\n",
              "    }\n",
              "</style>\n",
              "<table border=\"1\" class=\"dataframe\">\n",
              "  <thead>\n",
              "    <tr style=\"text-align: right;\">\n",
              "      <th></th>\n",
              "      <th>Dataset type</th>\n",
              "      <th>Rows</th>\n",
              "      <th>Mean target</th>\n",
              "      <th>Baseline MAPE</th>\n",
              "      <th>Enriched MAPE</th>\n",
              "      <th>Uplift, abs</th>\n",
              "      <th>Uplift, %</th>\n",
              "    </tr>\n",
              "  </thead>\n",
              "  <tbody>\n",
              "    <tr>\n",
              "      <th>0</th>\n",
              "      <td>Train</td>\n",
              "      <td>9418</td>\n",
              "      <td>53.3352</td>\n",
              "      <td>0.288 ± 0.096</td>\n",
              "      <td>0.225 ± 0.085</td>\n",
              "      <td>0.063</td>\n",
              "      <td>21.8%</td>\n",
              "    </tr>\n",
              "    <tr>\n",
              "      <th>1</th>\n",
              "      <td>Eval 1</td>\n",
              "      <td>3764</td>\n",
              "      <td>58.5994</td>\n",
              "      <td>0.247 ± 0.008</td>\n",
              "      <td>0.204 ± 0.034</td>\n",
              "      <td>0.043</td>\n",
              "      <td>17.3%</td>\n",
              "    </tr>\n",
              "  </tbody>\n",
              "</table>\n",
              "</div>\n",
              "    <div class=\"colab-df-buttons\">\n",
              "\n",
              "  <div class=\"colab-df-container\">\n",
              "    <button class=\"colab-df-convert\" onclick=\"convertToInteractive('df-688ab3a0-3fb4-498c-bf8b-3624a4681251')\"\n",
              "            title=\"Convert this dataframe to an interactive table.\"\n",
              "            style=\"display:none;\">\n",
              "\n",
              "  <svg xmlns=\"http://www.w3.org/2000/svg\" height=\"24px\" viewBox=\"0 -960 960 960\">\n",
              "    <path d=\"M120-120v-720h720v720H120Zm60-500h600v-160H180v160Zm220 220h160v-160H400v160Zm0 220h160v-160H400v160ZM180-400h160v-160H180v160Zm440 0h160v-160H620v160ZM180-180h160v-160H180v160Zm440 0h160v-160H620v160Z\"/>\n",
              "  </svg>\n",
              "    </button>\n",
              "\n",
              "  <style>\n",
              "    .colab-df-container {\n",
              "      display:flex;\n",
              "      gap: 12px;\n",
              "    }\n",
              "\n",
              "    .colab-df-convert {\n",
              "      background-color: #E8F0FE;\n",
              "      border: none;\n",
              "      border-radius: 50%;\n",
              "      cursor: pointer;\n",
              "      display: none;\n",
              "      fill: #1967D2;\n",
              "      height: 32px;\n",
              "      padding: 0 0 0 0;\n",
              "      width: 32px;\n",
              "    }\n",
              "\n",
              "    .colab-df-convert:hover {\n",
              "      background-color: #E2EBFA;\n",
              "      box-shadow: 0px 1px 2px rgba(60, 64, 67, 0.3), 0px 1px 3px 1px rgba(60, 64, 67, 0.15);\n",
              "      fill: #174EA6;\n",
              "    }\n",
              "\n",
              "    .colab-df-buttons div {\n",
              "      margin-bottom: 4px;\n",
              "    }\n",
              "\n",
              "    [theme=dark] .colab-df-convert {\n",
              "      background-color: #3B4455;\n",
              "      fill: #D2E3FC;\n",
              "    }\n",
              "\n",
              "    [theme=dark] .colab-df-convert:hover {\n",
              "      background-color: #434B5C;\n",
              "      box-shadow: 0px 1px 3px 1px rgba(0, 0, 0, 0.15);\n",
              "      filter: drop-shadow(0px 1px 2px rgba(0, 0, 0, 0.3));\n",
              "      fill: #FFFFFF;\n",
              "    }\n",
              "  </style>\n",
              "\n",
              "    <script>\n",
              "      const buttonEl =\n",
              "        document.querySelector('#df-688ab3a0-3fb4-498c-bf8b-3624a4681251 button.colab-df-convert');\n",
              "      buttonEl.style.display =\n",
              "        google.colab.kernel.accessAllowed ? 'block' : 'none';\n",
              "\n",
              "      async function convertToInteractive(key) {\n",
              "        const element = document.querySelector('#df-688ab3a0-3fb4-498c-bf8b-3624a4681251');\n",
              "        const dataTable =\n",
              "          await google.colab.kernel.invokeFunction('convertToInteractive',\n",
              "                                                    [key], {});\n",
              "        if (!dataTable) return;\n",
              "\n",
              "        const docLinkHtml = 'Like what you see? Visit the ' +\n",
              "          '<a target=\"_blank\" href=https://colab.research.google.com/notebooks/data_table.ipynb>data table notebook</a>'\n",
              "          + ' to learn more about interactive tables.';\n",
              "        element.innerHTML = '';\n",
              "        dataTable['output_type'] = 'display_data';\n",
              "        await google.colab.output.renderOutput(dataTable, element);\n",
              "        const docLink = document.createElement('div');\n",
              "        docLink.innerHTML = docLinkHtml;\n",
              "        element.appendChild(docLink);\n",
              "      }\n",
              "    </script>\n",
              "  </div>\n",
              "\n",
              "\n",
              "    <div id=\"df-038781f5-09a7-4e18-b39c-81b2faf83a10\">\n",
              "      <button class=\"colab-df-quickchart\" onclick=\"quickchart('df-038781f5-09a7-4e18-b39c-81b2faf83a10')\"\n",
              "                title=\"Suggest charts\"\n",
              "                style=\"display:none;\">\n",
              "\n",
              "<svg xmlns=\"http://www.w3.org/2000/svg\" height=\"24px\"viewBox=\"0 0 24 24\"\n",
              "     width=\"24px\">\n",
              "    <g>\n",
              "        <path d=\"M19 3H5c-1.1 0-2 .9-2 2v14c0 1.1.9 2 2 2h14c1.1 0 2-.9 2-2V5c0-1.1-.9-2-2-2zM9 17H7v-7h2v7zm4 0h-2V7h2v10zm4 0h-2v-4h2v4z\"/>\n",
              "    </g>\n",
              "</svg>\n",
              "      </button>\n",
              "\n",
              "<style>\n",
              "  .colab-df-quickchart {\n",
              "      --bg-color: #E8F0FE;\n",
              "      --fill-color: #1967D2;\n",
              "      --hover-bg-color: #E2EBFA;\n",
              "      --hover-fill-color: #174EA6;\n",
              "      --disabled-fill-color: #AAA;\n",
              "      --disabled-bg-color: #DDD;\n",
              "  }\n",
              "\n",
              "  [theme=dark] .colab-df-quickchart {\n",
              "      --bg-color: #3B4455;\n",
              "      --fill-color: #D2E3FC;\n",
              "      --hover-bg-color: #434B5C;\n",
              "      --hover-fill-color: #FFFFFF;\n",
              "      --disabled-bg-color: #3B4455;\n",
              "      --disabled-fill-color: #666;\n",
              "  }\n",
              "\n",
              "  .colab-df-quickchart {\n",
              "    background-color: var(--bg-color);\n",
              "    border: none;\n",
              "    border-radius: 50%;\n",
              "    cursor: pointer;\n",
              "    display: none;\n",
              "    fill: var(--fill-color);\n",
              "    height: 32px;\n",
              "    padding: 0;\n",
              "    width: 32px;\n",
              "  }\n",
              "\n",
              "  .colab-df-quickchart:hover {\n",
              "    background-color: var(--hover-bg-color);\n",
              "    box-shadow: 0 1px 2px rgba(60, 64, 67, 0.3), 0 1px 3px 1px rgba(60, 64, 67, 0.15);\n",
              "    fill: var(--button-hover-fill-color);\n",
              "  }\n",
              "\n",
              "  .colab-df-quickchart-complete:disabled,\n",
              "  .colab-df-quickchart-complete:disabled:hover {\n",
              "    background-color: var(--disabled-bg-color);\n",
              "    fill: var(--disabled-fill-color);\n",
              "    box-shadow: none;\n",
              "  }\n",
              "\n",
              "  .colab-df-spinner {\n",
              "    border: 2px solid var(--fill-color);\n",
              "    border-color: transparent;\n",
              "    border-bottom-color: var(--fill-color);\n",
              "    animation:\n",
              "      spin 1s steps(1) infinite;\n",
              "  }\n",
              "\n",
              "  @keyframes spin {\n",
              "    0% {\n",
              "      border-color: transparent;\n",
              "      border-bottom-color: var(--fill-color);\n",
              "      border-left-color: var(--fill-color);\n",
              "    }\n",
              "    20% {\n",
              "      border-color: transparent;\n",
              "      border-left-color: var(--fill-color);\n",
              "      border-top-color: var(--fill-color);\n",
              "    }\n",
              "    30% {\n",
              "      border-color: transparent;\n",
              "      border-left-color: var(--fill-color);\n",
              "      border-top-color: var(--fill-color);\n",
              "      border-right-color: var(--fill-color);\n",
              "    }\n",
              "    40% {\n",
              "      border-color: transparent;\n",
              "      border-right-color: var(--fill-color);\n",
              "      border-top-color: var(--fill-color);\n",
              "    }\n",
              "    60% {\n",
              "      border-color: transparent;\n",
              "      border-right-color: var(--fill-color);\n",
              "    }\n",
              "    80% {\n",
              "      border-color: transparent;\n",
              "      border-right-color: var(--fill-color);\n",
              "      border-bottom-color: var(--fill-color);\n",
              "    }\n",
              "    90% {\n",
              "      border-color: transparent;\n",
              "      border-bottom-color: var(--fill-color);\n",
              "    }\n",
              "  }\n",
              "</style>\n",
              "\n",
              "      <script>\n",
              "        async function quickchart(key) {\n",
              "          const quickchartButtonEl =\n",
              "            document.querySelector('#' + key + ' button');\n",
              "          quickchartButtonEl.disabled = true;  // To prevent multiple clicks.\n",
              "          quickchartButtonEl.classList.add('colab-df-spinner');\n",
              "          try {\n",
              "            const charts = await google.colab.kernel.invokeFunction(\n",
              "                'suggestCharts', [key], {});\n",
              "          } catch (error) {\n",
              "            console.error('Error during call to suggestCharts:', error);\n",
              "          }\n",
              "          quickchartButtonEl.classList.remove('colab-df-spinner');\n",
              "          quickchartButtonEl.classList.add('colab-df-quickchart-complete');\n",
              "        }\n",
              "        (() => {\n",
              "          let quickchartButtonEl =\n",
              "            document.querySelector('#df-038781f5-09a7-4e18-b39c-81b2faf83a10 button');\n",
              "          quickchartButtonEl.style.display =\n",
              "            google.colab.kernel.accessAllowed ? 'block' : 'none';\n",
              "        })();\n",
              "      </script>\n",
              "    </div>\n",
              "\n",
              "    </div>\n",
              "  </div>\n"
            ],
            "application/vnd.google.colaboratory.intrinsic+json": {
              "type": "dataframe",
              "summary": "{\n  \"name\": \")\",\n  \"rows\": 2,\n  \"fields\": [\n    {\n      \"column\": \"Dataset type\",\n      \"properties\": {\n        \"dtype\": \"string\",\n        \"num_unique_values\": 2,\n        \"samples\": [\n          \"Eval 1\",\n          \"Train\"\n        ],\n        \"semantic_type\": \"\",\n        \"description\": \"\"\n      }\n    },\n    {\n      \"column\": \"Rows\",\n      \"properties\": {\n        \"dtype\": \"number\",\n        \"std\": 3997,\n        \"min\": 3764,\n        \"max\": 9418,\n        \"num_unique_values\": 2,\n        \"samples\": [\n          3764,\n          9418\n        ],\n        \"semantic_type\": \"\",\n        \"description\": \"\"\n      }\n    },\n    {\n      \"column\": \"Mean target\",\n      \"properties\": {\n        \"dtype\": \"number\",\n        \"std\": 3.7223515175222253,\n        \"min\": 53.3352,\n        \"max\": 58.5994,\n        \"num_unique_values\": 2,\n        \"samples\": [\n          58.5994,\n          53.3352\n        ],\n        \"semantic_type\": \"\",\n        \"description\": \"\"\n      }\n    },\n    {\n      \"column\": \"Baseline MAPE\",\n      \"properties\": {\n        \"dtype\": \"string\",\n        \"num_unique_values\": 2,\n        \"samples\": [\n          \"0.247 \\u00b1 0.008\",\n          \"0.288 \\u00b1 0.096\"\n        ],\n        \"semantic_type\": \"\",\n        \"description\": \"\"\n      }\n    },\n    {\n      \"column\": \"Enriched MAPE\",\n      \"properties\": {\n        \"dtype\": \"string\",\n        \"num_unique_values\": 2,\n        \"samples\": [\n          \"0.204 \\u00b1 0.034\",\n          \"0.225 \\u00b1 0.085\"\n        ],\n        \"semantic_type\": \"\",\n        \"description\": \"\"\n      }\n    },\n    {\n      \"column\": \"Uplift, abs\",\n      \"properties\": {\n        \"dtype\": \"number\",\n        \"std\": 0.014142135623730954,\n        \"min\": 0.043,\n        \"max\": 0.063,\n        \"num_unique_values\": 2,\n        \"samples\": [\n          0.043,\n          0.063\n        ],\n        \"semantic_type\": \"\",\n        \"description\": \"\"\n      }\n    },\n    {\n      \"column\": \"Uplift, %\",\n      \"properties\": {\n        \"dtype\": \"string\",\n        \"num_unique_values\": 2,\n        \"samples\": [\n          \"17.3%\",\n          \"21.8%\"\n        ],\n        \"semantic_type\": \"\",\n        \"description\": \"\"\n      }\n    }\n  ]\n}"
            }
          },
          "metadata": {},
          "execution_count": 6
        }
      ]
    },
    {
      "cell_type": "code",
      "source": [
        "# Step 1: Sample the dataset to fit within Upgini's free tier\n",
        "sampled_train = train_features.sample(n=1000, random_state=42)\n",
        "sampled_test = test_features.sample(n=500, random_state=42)\n",
        "\n",
        "# Step 2: Sample corresponding target values\n",
        "sampled_train_target = train_target.loc[sampled_train.index]\n",
        "sampled_test_target = test_target.loc[sampled_test.index]\n",
        "\n",
        "# Step 3: Enrich using Upgini\n",
        "enriched_train_features = enricher.transform(sampled_train, y=sampled_train_target, keep_input=True)\n",
        "enriched_test_features = enricher.transform(sampled_test, y=sampled_test_target, keep_input=True)\n",
        "\n",
        "# Step 4: Check the output\n",
        "enriched_train_features.head()\n"
      ],
      "metadata": {
        "colab": {
          "base_uri": "https://localhost:8080/",
          "height": 1000
        },
        "id": "22P_3r8DMLBJ",
        "outputId": "d79b7ca6-6eca-4515-f527-7c86c723eba5"
      },
      "execution_count": null,
      "outputs": [
        {
          "output_type": "display_data",
          "data": {
            "text/plain": [
              "[============================================================] 100% Finished"
            ],
            "text/html": [
              "<progress style='width:60ex' max='100' value='100'></progress>  100% Finished</br>"
            ]
          },
          "metadata": {}
        },
        {
          "output_type": "stream",
          "name": "stdout",
          "text": [
            "You use Trial access to Upgini data enrichment. Limit for Trial: 1000 rows. You have already enriched: 0 rows.\n",
            "WARNING #1: Search started with DATE search key only\n",
            "Try to add other keys like the COUNTRY, POSTAL_CODE, PHONE NUMBER, EMAIL/HEM, IP to your training dataset\n",
            "for search through all the available data sources.\n",
            "See docs https://github.com/upgini/upgini#-total-239-countries-and-up-to-41-years-of-history\n",
            "\n",
            "WARNING #2: 49.0946% of rows (488) in X and eval_set are duplicates with different y values. These rows will be deleted as incorrect\n",
            "Sample of incorrect row indexes: [1, 2, 3, 4, 7, 9, 14, 15, 16, 18, 21, 22, 23, 27, 28, 30, 31, 32, 33, 34, 35, 36, 38, 43, 46, 47, 50, 58, 61, 63, 65, 66, 69, 72, 75, 76, 79, 81, 82, 83, 84, 85, 91, 92, 94, 96, 97, 98, 100, 104, 105, 107, 109, 111, 114, 115, 117, 119, 121, 124, 125, 126, 127, 128, 129, 130, 132, 133, 136, 137, 142, 143, 144, 145, 147, 148, 149, 151, 153, 154, 155, 158, 159, 160, 161, 162, 168, 169, 170, 174, 176, 177, 180, 182, 183, 187, 189, 192, 193, 194]\n",
            "\n"
          ]
        },
        {
          "output_type": "display_data",
          "data": {
            "text/plain": [
              "<IPython.core.display.HTML object>"
            ],
            "text/html": [
              "<table><tr><th style='font-weight:bold'>Column name</th><th style='font-weight:bold'>Status</th><th style='font-weight:bold'>Errors</th></tr><tr><td>date</td><td style='background-color:#DAF7A6;color:black'>All valid</td><td>-</td></tr></table>"
            ]
          },
          "metadata": {}
        },
        {
          "output_type": "stream",
          "name": "stdout",
          "text": [
            "\n",
            "\n",
            "Running transform request, id=8b3a7fc0-1f09-4c10-9a39-16452a3ab3de\n",
            "We'll send email notification once it's completed, just use your personal api_key from profile.upgini.com\n",
            "\n",
            "Retrieving selected features from data sources...\n"
          ]
        },
        {
          "output_type": "display_data",
          "data": {
            "text/plain": [
              "[============================================================] 100% Finished"
            ],
            "text/html": [
              "<progress style='width:60ex' max='100' value='100'></progress>  100% Finished</br>"
            ]
          },
          "metadata": {}
        },
        {
          "output_type": "stream",
          "name": "stdout",
          "text": [
            "You use Trial access to Upgini data enrichment. Limit for Trial: 1000 rows. You have already enriched: 0 rows.\n",
            "WARNING #1: Search started with DATE search key only\n",
            "Try to add other keys like the COUNTRY, POSTAL_CODE, PHONE NUMBER, EMAIL/HEM, IP to your training dataset\n",
            "for search through all the available data sources.\n",
            "See docs https://github.com/upgini/upgini#-total-239-countries-and-up-to-41-years-of-history\n",
            "\n",
            "WARNING #2: 75.0503% of rows (373) in X and eval_set are duplicates with different y values. These rows will be deleted as incorrect\n",
            "Sample of incorrect row indexes: [0, 1, 2, 3, 4, 7, 8, 9, 10, 11, 12, 13, 14, 15, 17, 18, 20, 22, 23, 25, 27, 28, 30, 32, 33, 34, 35, 37, 38, 39, 40, 42, 43, 44, 46, 50, 51, 53, 54, 55, 56, 58, 60, 61, 62, 63, 64, 65, 66, 67, 68, 69, 70, 71, 78, 79, 80, 81, 82, 83, 84, 85, 86, 87, 88, 89, 90, 91, 92, 94, 97, 98, 99, 100, 101, 102, 103, 104, 105, 106, 107, 108, 109, 110, 111, 112, 113, 114, 115, 116, 117, 120, 123, 124, 125, 127, 128, 129, 130, 131]\n",
            "\n"
          ]
        },
        {
          "output_type": "display_data",
          "data": {
            "text/plain": [
              "<IPython.core.display.HTML object>"
            ],
            "text/html": [
              "<table><tr><th style='font-weight:bold'>Column name</th><th style='font-weight:bold'>Status</th><th style='font-weight:bold'>Errors</th></tr><tr><td>date</td><td style='background-color:#DAF7A6;color:black'>All valid</td><td>-</td></tr></table>"
            ]
          },
          "metadata": {}
        },
        {
          "output_type": "stream",
          "name": "stdout",
          "text": [
            "\n",
            "\n",
            "Running transform request, id=e8b29a62-925b-4c21-9c55-fbcc1032d361\n",
            "We'll send email notification once it's completed, just use your personal api_key from profile.upgini.com\n",
            "\n",
            "Retrieving selected features from data sources...\n"
          ]
        },
        {
          "output_type": "execute_result",
          "data": {
            "text/plain": [
              "            date store item  target  \\\n",
              "1087  2013-04-14    10   43      66   \n",
              "11890 2016-02-17     2   19      25   \n",
              "8723  2015-04-13     7   20      36   \n",
              "14127 2016-09-22     6    8      67   \n",
              "10683 2015-10-23     5   32      25   \n",
              "\n",
              "       f_financial_date_crude_oil_7d_to_1y_c3e0ad17  \\\n",
              "1087                                       1.013617   \n",
              "11890                                           NaN   \n",
              "8723                                            NaN   \n",
              "14127                                           NaN   \n",
              "10683                                           NaN   \n",
              "\n",
              "       f_financial_date_usd_7d_to_1y_9cbe7ef8  \\\n",
              "1087                                 1.017252   \n",
              "11890                                     NaN   \n",
              "8723                                      NaN   \n",
              "14127                                     NaN   \n",
              "10683                                     NaN   \n",
              "\n",
              "       f_financial_date_silver_7d_to_1y_0ccfe462  \\\n",
              "1087                                     0.89612   \n",
              "11890                                        NaN   \n",
              "8723                                         NaN   \n",
              "14127                                        NaN   \n",
              "10683                                        NaN   \n",
              "\n",
              "       f_financial_date_crude_oil_7d_to_7d_1y_shift_718136ef  \\\n",
              "1087                                             0.90507       \n",
              "11890                                                NaN       \n",
              "8723                                                 NaN       \n",
              "14127                                                NaN       \n",
              "10683                                                NaN       \n",
              "\n",
              "       f_events_date_week_sin1_847b5db1  f_events_date_week_cos3_7525fe31  \\\n",
              "1087                          -0.781831                         -0.900969   \n",
              "11890                               NaN                               NaN   \n",
              "8723                                NaN                               NaN   \n",
              "14127                               NaN                               NaN   \n",
              "10683                               NaN                               NaN   \n",
              "\n",
              "       ...  f_autofe_roll_2d_std_eb944d44c9  f_autofe_roll_3d_max_946bf6086b  \\\n",
              "1087   ...                         0.388908                             66.0   \n",
              "11890  ...                              NaN                              NaN   \n",
              "8723   ...                              NaN                              NaN   \n",
              "14127  ...                              NaN                              NaN   \n",
              "10683  ...                              NaN                              NaN   \n",
              "\n",
              "       f_autofe_roll_3d_median_8e12f1e1e9  f_autofe_roll_3d_median_97804b26e6  \\\n",
              "1087                            -0.349647                                41.0   \n",
              "11890                                 NaN                                 NaN   \n",
              "8723                                  NaN                                 NaN   \n",
              "14127                                 NaN                                 NaN   \n",
              "10683                                 NaN                                 NaN   \n",
              "\n",
              "       f_autofe_roll_3d_min_1a2ad6d8bb  f_autofe_roll_3d_q75_927f52faea  \\\n",
              "1087                         -0.365723                             53.5   \n",
              "11890                              NaN                              NaN   \n",
              "8723                               NaN                              NaN   \n",
              "14127                              NaN                              NaN   \n",
              "10683                              NaN                              NaN   \n",
              "\n",
              "       f_autofe_roll_7d_max_f49b75b311  f_autofe_roll_7d_median_e8edff6d9a  \\\n",
              "1087                              68.0                                58.0   \n",
              "11890                              NaN                                 NaN   \n",
              "8723                               NaN                                 NaN   \n",
              "14127                              NaN                                 NaN   \n",
              "10683                              NaN                                 NaN   \n",
              "\n",
              "       f_autofe_roll_7d_norm_mean_e25c9053c6  f_autofe_roll_7d_std_c9b63bd7b1  \n",
              "1087                                 0.99698                         0.020869  \n",
              "11890                                    NaN                              NaN  \n",
              "8723                                     NaN                              NaN  \n",
              "14127                                    NaN                              NaN  \n",
              "10683                                    NaN                              NaN  \n",
              "\n",
              "[5 rows x 46 columns]"
            ],
            "text/html": [
              "\n",
              "  <div id=\"df-e8e4a0e4-cbe3-448f-b12b-c66a1b8f38ab\" class=\"colab-df-container\">\n",
              "    <div>\n",
              "<style scoped>\n",
              "    .dataframe tbody tr th:only-of-type {\n",
              "        vertical-align: middle;\n",
              "    }\n",
              "\n",
              "    .dataframe tbody tr th {\n",
              "        vertical-align: top;\n",
              "    }\n",
              "\n",
              "    .dataframe thead th {\n",
              "        text-align: right;\n",
              "    }\n",
              "</style>\n",
              "<table border=\"1\" class=\"dataframe\">\n",
              "  <thead>\n",
              "    <tr style=\"text-align: right;\">\n",
              "      <th></th>\n",
              "      <th>date</th>\n",
              "      <th>store</th>\n",
              "      <th>item</th>\n",
              "      <th>target</th>\n",
              "      <th>f_financial_date_crude_oil_7d_to_1y_c3e0ad17</th>\n",
              "      <th>f_financial_date_usd_7d_to_1y_9cbe7ef8</th>\n",
              "      <th>f_financial_date_silver_7d_to_1y_0ccfe462</th>\n",
              "      <th>f_financial_date_crude_oil_7d_to_7d_1y_shift_718136ef</th>\n",
              "      <th>f_events_date_week_sin1_847b5db1</th>\n",
              "      <th>f_events_date_week_cos3_7525fe31</th>\n",
              "      <th>...</th>\n",
              "      <th>f_autofe_roll_2d_std_eb944d44c9</th>\n",
              "      <th>f_autofe_roll_3d_max_946bf6086b</th>\n",
              "      <th>f_autofe_roll_3d_median_8e12f1e1e9</th>\n",
              "      <th>f_autofe_roll_3d_median_97804b26e6</th>\n",
              "      <th>f_autofe_roll_3d_min_1a2ad6d8bb</th>\n",
              "      <th>f_autofe_roll_3d_q75_927f52faea</th>\n",
              "      <th>f_autofe_roll_7d_max_f49b75b311</th>\n",
              "      <th>f_autofe_roll_7d_median_e8edff6d9a</th>\n",
              "      <th>f_autofe_roll_7d_norm_mean_e25c9053c6</th>\n",
              "      <th>f_autofe_roll_7d_std_c9b63bd7b1</th>\n",
              "    </tr>\n",
              "  </thead>\n",
              "  <tbody>\n",
              "    <tr>\n",
              "      <th>1087</th>\n",
              "      <td>2013-04-14</td>\n",
              "      <td>10</td>\n",
              "      <td>43</td>\n",
              "      <td>66</td>\n",
              "      <td>1.013617</td>\n",
              "      <td>1.017252</td>\n",
              "      <td>0.89612</td>\n",
              "      <td>0.90507</td>\n",
              "      <td>-0.781831</td>\n",
              "      <td>-0.900969</td>\n",
              "      <td>...</td>\n",
              "      <td>0.388908</td>\n",
              "      <td>66.0</td>\n",
              "      <td>-0.349647</td>\n",
              "      <td>41.0</td>\n",
              "      <td>-0.365723</td>\n",
              "      <td>53.5</td>\n",
              "      <td>68.0</td>\n",
              "      <td>58.0</td>\n",
              "      <td>0.99698</td>\n",
              "      <td>0.020869</td>\n",
              "    </tr>\n",
              "    <tr>\n",
              "      <th>11890</th>\n",
              "      <td>2016-02-17</td>\n",
              "      <td>2</td>\n",
              "      <td>19</td>\n",
              "      <td>25</td>\n",
              "      <td>NaN</td>\n",
              "      <td>NaN</td>\n",
              "      <td>NaN</td>\n",
              "      <td>NaN</td>\n",
              "      <td>NaN</td>\n",
              "      <td>NaN</td>\n",
              "      <td>...</td>\n",
              "      <td>NaN</td>\n",
              "      <td>NaN</td>\n",
              "      <td>NaN</td>\n",
              "      <td>NaN</td>\n",
              "      <td>NaN</td>\n",
              "      <td>NaN</td>\n",
              "      <td>NaN</td>\n",
              "      <td>NaN</td>\n",
              "      <td>NaN</td>\n",
              "      <td>NaN</td>\n",
              "    </tr>\n",
              "    <tr>\n",
              "      <th>8723</th>\n",
              "      <td>2015-04-13</td>\n",
              "      <td>7</td>\n",
              "      <td>20</td>\n",
              "      <td>36</td>\n",
              "      <td>NaN</td>\n",
              "      <td>NaN</td>\n",
              "      <td>NaN</td>\n",
              "      <td>NaN</td>\n",
              "      <td>NaN</td>\n",
              "      <td>NaN</td>\n",
              "      <td>...</td>\n",
              "      <td>NaN</td>\n",
              "      <td>NaN</td>\n",
              "      <td>NaN</td>\n",
              "      <td>NaN</td>\n",
              "      <td>NaN</td>\n",
              "      <td>NaN</td>\n",
              "      <td>NaN</td>\n",
              "      <td>NaN</td>\n",
              "      <td>NaN</td>\n",
              "      <td>NaN</td>\n",
              "    </tr>\n",
              "    <tr>\n",
              "      <th>14127</th>\n",
              "      <td>2016-09-22</td>\n",
              "      <td>6</td>\n",
              "      <td>8</td>\n",
              "      <td>67</td>\n",
              "      <td>NaN</td>\n",
              "      <td>NaN</td>\n",
              "      <td>NaN</td>\n",
              "      <td>NaN</td>\n",
              "      <td>NaN</td>\n",
              "      <td>NaN</td>\n",
              "      <td>...</td>\n",
              "      <td>NaN</td>\n",
              "      <td>NaN</td>\n",
              "      <td>NaN</td>\n",
              "      <td>NaN</td>\n",
              "      <td>NaN</td>\n",
              "      <td>NaN</td>\n",
              "      <td>NaN</td>\n",
              "      <td>NaN</td>\n",
              "      <td>NaN</td>\n",
              "      <td>NaN</td>\n",
              "    </tr>\n",
              "    <tr>\n",
              "      <th>10683</th>\n",
              "      <td>2015-10-23</td>\n",
              "      <td>5</td>\n",
              "      <td>32</td>\n",
              "      <td>25</td>\n",
              "      <td>NaN</td>\n",
              "      <td>NaN</td>\n",
              "      <td>NaN</td>\n",
              "      <td>NaN</td>\n",
              "      <td>NaN</td>\n",
              "      <td>NaN</td>\n",
              "      <td>...</td>\n",
              "      <td>NaN</td>\n",
              "      <td>NaN</td>\n",
              "      <td>NaN</td>\n",
              "      <td>NaN</td>\n",
              "      <td>NaN</td>\n",
              "      <td>NaN</td>\n",
              "      <td>NaN</td>\n",
              "      <td>NaN</td>\n",
              "      <td>NaN</td>\n",
              "      <td>NaN</td>\n",
              "    </tr>\n",
              "  </tbody>\n",
              "</table>\n",
              "<p>5 rows × 46 columns</p>\n",
              "</div>\n",
              "    <div class=\"colab-df-buttons\">\n",
              "\n",
              "  <div class=\"colab-df-container\">\n",
              "    <button class=\"colab-df-convert\" onclick=\"convertToInteractive('df-e8e4a0e4-cbe3-448f-b12b-c66a1b8f38ab')\"\n",
              "            title=\"Convert this dataframe to an interactive table.\"\n",
              "            style=\"display:none;\">\n",
              "\n",
              "  <svg xmlns=\"http://www.w3.org/2000/svg\" height=\"24px\" viewBox=\"0 -960 960 960\">\n",
              "    <path d=\"M120-120v-720h720v720H120Zm60-500h600v-160H180v160Zm220 220h160v-160H400v160Zm0 220h160v-160H400v160ZM180-400h160v-160H180v160Zm440 0h160v-160H620v160ZM180-180h160v-160H180v160Zm440 0h160v-160H620v160Z\"/>\n",
              "  </svg>\n",
              "    </button>\n",
              "\n",
              "  <style>\n",
              "    .colab-df-container {\n",
              "      display:flex;\n",
              "      gap: 12px;\n",
              "    }\n",
              "\n",
              "    .colab-df-convert {\n",
              "      background-color: #E8F0FE;\n",
              "      border: none;\n",
              "      border-radius: 50%;\n",
              "      cursor: pointer;\n",
              "      display: none;\n",
              "      fill: #1967D2;\n",
              "      height: 32px;\n",
              "      padding: 0 0 0 0;\n",
              "      width: 32px;\n",
              "    }\n",
              "\n",
              "    .colab-df-convert:hover {\n",
              "      background-color: #E2EBFA;\n",
              "      box-shadow: 0px 1px 2px rgba(60, 64, 67, 0.3), 0px 1px 3px 1px rgba(60, 64, 67, 0.15);\n",
              "      fill: #174EA6;\n",
              "    }\n",
              "\n",
              "    .colab-df-buttons div {\n",
              "      margin-bottom: 4px;\n",
              "    }\n",
              "\n",
              "    [theme=dark] .colab-df-convert {\n",
              "      background-color: #3B4455;\n",
              "      fill: #D2E3FC;\n",
              "    }\n",
              "\n",
              "    [theme=dark] .colab-df-convert:hover {\n",
              "      background-color: #434B5C;\n",
              "      box-shadow: 0px 1px 3px 1px rgba(0, 0, 0, 0.15);\n",
              "      filter: drop-shadow(0px 1px 2px rgba(0, 0, 0, 0.3));\n",
              "      fill: #FFFFFF;\n",
              "    }\n",
              "  </style>\n",
              "\n",
              "    <script>\n",
              "      const buttonEl =\n",
              "        document.querySelector('#df-e8e4a0e4-cbe3-448f-b12b-c66a1b8f38ab button.colab-df-convert');\n",
              "      buttonEl.style.display =\n",
              "        google.colab.kernel.accessAllowed ? 'block' : 'none';\n",
              "\n",
              "      async function convertToInteractive(key) {\n",
              "        const element = document.querySelector('#df-e8e4a0e4-cbe3-448f-b12b-c66a1b8f38ab');\n",
              "        const dataTable =\n",
              "          await google.colab.kernel.invokeFunction('convertToInteractive',\n",
              "                                                    [key], {});\n",
              "        if (!dataTable) return;\n",
              "\n",
              "        const docLinkHtml = 'Like what you see? Visit the ' +\n",
              "          '<a target=\"_blank\" href=https://colab.research.google.com/notebooks/data_table.ipynb>data table notebook</a>'\n",
              "          + ' to learn more about interactive tables.';\n",
              "        element.innerHTML = '';\n",
              "        dataTable['output_type'] = 'display_data';\n",
              "        await google.colab.output.renderOutput(dataTable, element);\n",
              "        const docLink = document.createElement('div');\n",
              "        docLink.innerHTML = docLinkHtml;\n",
              "        element.appendChild(docLink);\n",
              "      }\n",
              "    </script>\n",
              "  </div>\n",
              "\n",
              "\n",
              "    <div id=\"df-387f9890-9c0b-4bc7-ad08-7fb532b4e250\">\n",
              "      <button class=\"colab-df-quickchart\" onclick=\"quickchart('df-387f9890-9c0b-4bc7-ad08-7fb532b4e250')\"\n",
              "                title=\"Suggest charts\"\n",
              "                style=\"display:none;\">\n",
              "\n",
              "<svg xmlns=\"http://www.w3.org/2000/svg\" height=\"24px\"viewBox=\"0 0 24 24\"\n",
              "     width=\"24px\">\n",
              "    <g>\n",
              "        <path d=\"M19 3H5c-1.1 0-2 .9-2 2v14c0 1.1.9 2 2 2h14c1.1 0 2-.9 2-2V5c0-1.1-.9-2-2-2zM9 17H7v-7h2v7zm4 0h-2V7h2v10zm4 0h-2v-4h2v4z\"/>\n",
              "    </g>\n",
              "</svg>\n",
              "      </button>\n",
              "\n",
              "<style>\n",
              "  .colab-df-quickchart {\n",
              "      --bg-color: #E8F0FE;\n",
              "      --fill-color: #1967D2;\n",
              "      --hover-bg-color: #E2EBFA;\n",
              "      --hover-fill-color: #174EA6;\n",
              "      --disabled-fill-color: #AAA;\n",
              "      --disabled-bg-color: #DDD;\n",
              "  }\n",
              "\n",
              "  [theme=dark] .colab-df-quickchart {\n",
              "      --bg-color: #3B4455;\n",
              "      --fill-color: #D2E3FC;\n",
              "      --hover-bg-color: #434B5C;\n",
              "      --hover-fill-color: #FFFFFF;\n",
              "      --disabled-bg-color: #3B4455;\n",
              "      --disabled-fill-color: #666;\n",
              "  }\n",
              "\n",
              "  .colab-df-quickchart {\n",
              "    background-color: var(--bg-color);\n",
              "    border: none;\n",
              "    border-radius: 50%;\n",
              "    cursor: pointer;\n",
              "    display: none;\n",
              "    fill: var(--fill-color);\n",
              "    height: 32px;\n",
              "    padding: 0;\n",
              "    width: 32px;\n",
              "  }\n",
              "\n",
              "  .colab-df-quickchart:hover {\n",
              "    background-color: var(--hover-bg-color);\n",
              "    box-shadow: 0 1px 2px rgba(60, 64, 67, 0.3), 0 1px 3px 1px rgba(60, 64, 67, 0.15);\n",
              "    fill: var(--button-hover-fill-color);\n",
              "  }\n",
              "\n",
              "  .colab-df-quickchart-complete:disabled,\n",
              "  .colab-df-quickchart-complete:disabled:hover {\n",
              "    background-color: var(--disabled-bg-color);\n",
              "    fill: var(--disabled-fill-color);\n",
              "    box-shadow: none;\n",
              "  }\n",
              "\n",
              "  .colab-df-spinner {\n",
              "    border: 2px solid var(--fill-color);\n",
              "    border-color: transparent;\n",
              "    border-bottom-color: var(--fill-color);\n",
              "    animation:\n",
              "      spin 1s steps(1) infinite;\n",
              "  }\n",
              "\n",
              "  @keyframes spin {\n",
              "    0% {\n",
              "      border-color: transparent;\n",
              "      border-bottom-color: var(--fill-color);\n",
              "      border-left-color: var(--fill-color);\n",
              "    }\n",
              "    20% {\n",
              "      border-color: transparent;\n",
              "      border-left-color: var(--fill-color);\n",
              "      border-top-color: var(--fill-color);\n",
              "    }\n",
              "    30% {\n",
              "      border-color: transparent;\n",
              "      border-left-color: var(--fill-color);\n",
              "      border-top-color: var(--fill-color);\n",
              "      border-right-color: var(--fill-color);\n",
              "    }\n",
              "    40% {\n",
              "      border-color: transparent;\n",
              "      border-right-color: var(--fill-color);\n",
              "      border-top-color: var(--fill-color);\n",
              "    }\n",
              "    60% {\n",
              "      border-color: transparent;\n",
              "      border-right-color: var(--fill-color);\n",
              "    }\n",
              "    80% {\n",
              "      border-color: transparent;\n",
              "      border-right-color: var(--fill-color);\n",
              "      border-bottom-color: var(--fill-color);\n",
              "    }\n",
              "    90% {\n",
              "      border-color: transparent;\n",
              "      border-bottom-color: var(--fill-color);\n",
              "    }\n",
              "  }\n",
              "</style>\n",
              "\n",
              "      <script>\n",
              "        async function quickchart(key) {\n",
              "          const quickchartButtonEl =\n",
              "            document.querySelector('#' + key + ' button');\n",
              "          quickchartButtonEl.disabled = true;  // To prevent multiple clicks.\n",
              "          quickchartButtonEl.classList.add('colab-df-spinner');\n",
              "          try {\n",
              "            const charts = await google.colab.kernel.invokeFunction(\n",
              "                'suggestCharts', [key], {});\n",
              "          } catch (error) {\n",
              "            console.error('Error during call to suggestCharts:', error);\n",
              "          }\n",
              "          quickchartButtonEl.classList.remove('colab-df-spinner');\n",
              "          quickchartButtonEl.classList.add('colab-df-quickchart-complete');\n",
              "        }\n",
              "        (() => {\n",
              "          let quickchartButtonEl =\n",
              "            document.querySelector('#df-387f9890-9c0b-4bc7-ad08-7fb532b4e250 button');\n",
              "          quickchartButtonEl.style.display =\n",
              "            google.colab.kernel.accessAllowed ? 'block' : 'none';\n",
              "        })();\n",
              "      </script>\n",
              "    </div>\n",
              "\n",
              "    </div>\n",
              "  </div>\n"
            ],
            "application/vnd.google.colaboratory.intrinsic+json": {
              "type": "dataframe",
              "variable_name": "enriched_train_features"
            }
          },
          "metadata": {},
          "execution_count": 10
        }
      ]
    },
    {
      "cell_type": "code",
      "source": [
        "# Train on enriched data (sampled)\n",
        "model.fit(enriched_train_features, sampled_train_target)\n",
        "\n",
        "# Predict using enriched test features\n",
        "enriched_preds = model.predict(enriched_test_features)\n",
        "\n",
        "# Evaluate with SMAPE\n",
        "eval_metric(sampled_test_target.values, enriched_preds, \"SMAPE\")\n"
      ],
      "metadata": {
        "colab": {
          "base_uri": "https://localhost:8080/"
        },
        "id": "NfusGws5NPsb",
        "outputId": "31b18ecc-e521-403f-df61-63d1b875b5a7"
      },
      "execution_count": null,
      "outputs": [
        {
          "output_type": "execute_result",
          "data": {
            "text/plain": [
              "[1.3155278727043385]"
            ]
          },
          "metadata": {},
          "execution_count": 11
        }
      ]
    }
  ]
}